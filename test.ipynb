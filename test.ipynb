{
 "cells": [
  {
   "cell_type": "code",
   "execution_count": 1,
   "id": "7c37614b",
   "metadata": {},
   "outputs": [],
   "source": [
    "import pandas as pd\n",
    "from matplotlib import pyplot as plt\n",
    "import seaborn as sns\n",
    "import numpy as np\n",
    "\n",
    "from datetime import datetime\n",
    "pd.options.mode.chained_assignment = None "
   ]
  },
  {
   "cell_type": "code",
   "execution_count": 2,
   "id": "2d88e0cc",
   "metadata": {},
   "outputs": [],
   "source": [
    "import os\n",
    "import sys"
   ]
  },
  {
   "cell_type": "code",
   "execution_count": 3,
   "id": "39a3c67b",
   "metadata": {},
   "outputs": [],
   "source": [
    "sys.path.append(os.path.join(os.path.dirname('__file__'), 'utils'))"
   ]
  },
  {
   "cell_type": "code",
   "execution_count": 4,
   "id": "53d0b675",
   "metadata": {},
   "outputs": [],
   "source": [
    "from functions import *"
   ]
  },
  {
   "cell_type": "code",
   "execution_count": 5,
   "id": "4b809c70",
   "metadata": {},
   "outputs": [],
   "source": [
    "cw_d = \"./dataset/inputs/\""
   ]
  },
  {
   "cell_type": "code",
   "execution_count": 6,
   "id": "b2708e80",
   "metadata": {},
   "outputs": [],
   "source": [
    "ndvi_df = pd.read_csv(cw_d + \"ndvi.csv\")\n",
    "nnirv_df = pd.read_csv(cw_d + \"nnirv.csv\")\n",
    "ndvi_df.columns = [\"date\", \"NDVI\"]\n",
    "nnirv_df = nnirv_df[[\"system:time_start\", \"NNIRV\"]]\n",
    "nnirv_df.columns = [\"date\", \"NNIRV\"]"
   ]
  },
  {
   "cell_type": "code",
   "execution_count": 7,
   "id": "e722cb3a",
   "metadata": {
    "scrolled": true
   },
   "outputs": [
    {
     "data": {
      "text/html": [
       "<div>\n",
       "<style scoped>\n",
       "    .dataframe tbody tr th:only-of-type {\n",
       "        vertical-align: middle;\n",
       "    }\n",
       "\n",
       "    .dataframe tbody tr th {\n",
       "        vertical-align: top;\n",
       "    }\n",
       "\n",
       "    .dataframe thead th {\n",
       "        text-align: right;\n",
       "    }\n",
       "</style>\n",
       "<table border=\"1\" class=\"dataframe\">\n",
       "  <thead>\n",
       "    <tr style=\"text-align: right;\">\n",
       "      <th></th>\n",
       "      <th>date</th>\n",
       "      <th>NNIRV</th>\n",
       "    </tr>\n",
       "  </thead>\n",
       "  <tbody>\n",
       "    <tr>\n",
       "      <th>0</th>\n",
       "      <td>27-Jan-18</td>\n",
       "      <td>1,048.94</td>\n",
       "    </tr>\n",
       "    <tr>\n",
       "      <th>1</th>\n",
       "      <td>27-Jan-18</td>\n",
       "      <td>811.749</td>\n",
       "    </tr>\n",
       "    <tr>\n",
       "      <th>2</th>\n",
       "      <td>4-Feb-18</td>\n",
       "      <td>966.929</td>\n",
       "    </tr>\n",
       "    <tr>\n",
       "      <th>3</th>\n",
       "      <td>6-Feb-18</td>\n",
       "      <td>1,098.22</td>\n",
       "    </tr>\n",
       "    <tr>\n",
       "      <th>4</th>\n",
       "      <td>8-Mar-18</td>\n",
       "      <td>1,322.75</td>\n",
       "    </tr>\n",
       "    <tr>\n",
       "      <th>...</th>\n",
       "      <td>...</td>\n",
       "      <td>...</td>\n",
       "    </tr>\n",
       "    <tr>\n",
       "      <th>270</th>\n",
       "      <td>2-Dec-20</td>\n",
       "      <td>1,124.33</td>\n",
       "    </tr>\n",
       "    <tr>\n",
       "      <th>271</th>\n",
       "      <td>2-Dec-20</td>\n",
       "      <td>978.772</td>\n",
       "    </tr>\n",
       "    <tr>\n",
       "      <th>272</th>\n",
       "      <td>5-Dec-20</td>\n",
       "      <td>1,064.96</td>\n",
       "    </tr>\n",
       "    <tr>\n",
       "      <th>273</th>\n",
       "      <td>25-Dec-20</td>\n",
       "      <td>900.695</td>\n",
       "    </tr>\n",
       "    <tr>\n",
       "      <th>274</th>\n",
       "      <td>27-Dec-20</td>\n",
       "      <td>1,279.82</td>\n",
       "    </tr>\n",
       "  </tbody>\n",
       "</table>\n",
       "<p>275 rows × 2 columns</p>\n",
       "</div>"
      ],
      "text/plain": [
       "          date     NNIRV\n",
       "0    27-Jan-18  1,048.94\n",
       "1    27-Jan-18   811.749\n",
       "2     4-Feb-18   966.929\n",
       "3     6-Feb-18  1,098.22\n",
       "4     8-Mar-18  1,322.75\n",
       "..         ...       ...\n",
       "270   2-Dec-20  1,124.33\n",
       "271   2-Dec-20   978.772\n",
       "272   5-Dec-20  1,064.96\n",
       "273  25-Dec-20   900.695\n",
       "274  27-Dec-20  1,279.82\n",
       "\n",
       "[275 rows x 2 columns]"
      ]
     },
     "execution_count": 7,
     "metadata": {},
     "output_type": "execute_result"
    }
   ],
   "source": [
    "nnirv_df"
   ]
  },
  {
   "cell_type": "code",
   "execution_count": 8,
   "id": "a3651856",
   "metadata": {},
   "outputs": [],
   "source": [
    "#ndvi_df.isna().any()\n"
   ]
  },
  {
   "cell_type": "code",
   "execution_count": 9,
   "id": "07a2f5e4",
   "metadata": {},
   "outputs": [],
   "source": [
    "#indexed_ndvi_df.head()"
   ]
  },
  {
   "cell_type": "code",
   "execution_count": 10,
   "id": "12c9f679",
   "metadata": {},
   "outputs": [],
   "source": [
    "nnirv_dates_formated = [datetime.strptime(d ,\"%d-%b-%y\") for d in list(nnirv_df.date)]\n",
    "ndvi_dates_formated = [datetime.strptime(d ,\"%d-%b-%y\") for d in list(ndvi_df.date)]"
   ]
  },
  {
   "cell_type": "code",
   "execution_count": 11,
   "id": "54f6d616",
   "metadata": {},
   "outputs": [],
   "source": [
    "nnirv_df.NNIRV = [str_to_float(n) for n in nnirv_df.NNIRV]\n",
    "ndvi_df.NDVI = [str_to_float(n) for n in ndvi_df.NDVI]"
   ]
  },
  {
   "cell_type": "code",
   "execution_count": 12,
   "id": "31dab08a",
   "metadata": {},
   "outputs": [],
   "source": [
    "ndvi_df.date = ndvi_dates_formated \n",
    "nnirv_df.date = nnirv_dates_formated \n",
    "ndvi_df = ndvi_df.sort_values(by=\"date\")\n",
    "nnirv_df = nnirv_df.sort_values(by=\"date\")"
   ]
  },
  {
   "cell_type": "code",
   "execution_count": 13,
   "id": "213d7957",
   "metadata": {},
   "outputs": [],
   "source": [
    "#for d in list(nnirv_df.date):\n",
    "#    print(d)"
   ]
  },
  {
   "cell_type": "code",
   "execution_count": 14,
   "id": "a30994c5",
   "metadata": {
    "scrolled": true
   },
   "outputs": [
    {
     "data": {
      "text/html": [
       "<div>\n",
       "<style scoped>\n",
       "    .dataframe tbody tr th:only-of-type {\n",
       "        vertical-align: middle;\n",
       "    }\n",
       "\n",
       "    .dataframe tbody tr th {\n",
       "        vertical-align: top;\n",
       "    }\n",
       "\n",
       "    .dataframe thead th {\n",
       "        text-align: right;\n",
       "    }\n",
       "</style>\n",
       "<table border=\"1\" class=\"dataframe\">\n",
       "  <thead>\n",
       "    <tr style=\"text-align: right;\">\n",
       "      <th></th>\n",
       "      <th>date</th>\n",
       "      <th>NDVI</th>\n",
       "      <th>date_intervals</th>\n",
       "    </tr>\n",
       "  </thead>\n",
       "  <tbody>\n",
       "    <tr>\n",
       "      <th>0</th>\n",
       "      <td>2018-01-27</td>\n",
       "      <td>No</td>\n",
       "      <td>2018-01-17</td>\n",
       "    </tr>\n",
       "    <tr>\n",
       "      <th>1</th>\n",
       "      <td>2018-01-27</td>\n",
       "      <td>No</td>\n",
       "      <td>2018-01-17</td>\n",
       "    </tr>\n",
       "    <tr>\n",
       "      <th>2</th>\n",
       "      <td>2018-02-04</td>\n",
       "      <td>No</td>\n",
       "      <td>2018-02-16</td>\n",
       "    </tr>\n",
       "    <tr>\n",
       "      <th>3</th>\n",
       "      <td>2018-02-06</td>\n",
       "      <td>No</td>\n",
       "      <td>2018-02-16</td>\n",
       "    </tr>\n",
       "    <tr>\n",
       "      <th>4</th>\n",
       "      <td>2018-03-08</td>\n",
       "      <td>No</td>\n",
       "      <td>2018-03-16</td>\n",
       "    </tr>\n",
       "    <tr>\n",
       "      <th>...</th>\n",
       "      <td>...</td>\n",
       "      <td>...</td>\n",
       "      <td>...</td>\n",
       "    </tr>\n",
       "    <tr>\n",
       "      <th>271</th>\n",
       "      <td>2020-12-02</td>\n",
       "      <td>No</td>\n",
       "      <td>2020-12-16</td>\n",
       "    </tr>\n",
       "    <tr>\n",
       "      <th>270</th>\n",
       "      <td>2020-12-02</td>\n",
       "      <td>No</td>\n",
       "      <td>2020-12-16</td>\n",
       "    </tr>\n",
       "    <tr>\n",
       "      <th>272</th>\n",
       "      <td>2020-12-05</td>\n",
       "      <td>No</td>\n",
       "      <td>2020-12-16</td>\n",
       "    </tr>\n",
       "    <tr>\n",
       "      <th>273</th>\n",
       "      <td>2020-12-25</td>\n",
       "      <td>No</td>\n",
       "      <td>2020-12-17</td>\n",
       "    </tr>\n",
       "    <tr>\n",
       "      <th>274</th>\n",
       "      <td>2020-12-27</td>\n",
       "      <td>No</td>\n",
       "      <td>2020-12-17</td>\n",
       "    </tr>\n",
       "  </tbody>\n",
       "</table>\n",
       "<p>275 rows × 3 columns</p>\n",
       "</div>"
      ],
      "text/plain": [
       "          date NDVI date_intervals\n",
       "0   2018-01-27   No     2018-01-17\n",
       "1   2018-01-27   No     2018-01-17\n",
       "2   2018-02-04   No     2018-02-16\n",
       "3   2018-02-06   No     2018-02-16\n",
       "4   2018-03-08   No     2018-03-16\n",
       "..         ...  ...            ...\n",
       "271 2020-12-02   No     2020-12-16\n",
       "270 2020-12-02   No     2020-12-16\n",
       "272 2020-12-05   No     2020-12-16\n",
       "273 2020-12-25   No     2020-12-17\n",
       "274 2020-12-27   No     2020-12-17\n",
       "\n",
       "[275 rows x 3 columns]"
      ]
     },
     "execution_count": 14,
     "metadata": {},
     "output_type": "execute_result"
    }
   ],
   "source": [
    "ndvi_dates_col = [set_end_intevals(1, 16, d, d.month)  for d in list(ndvi_df.date)]\n",
    "ndvi_df[\"date_intervals\"] = ndvi_dates_col\n",
    "ndvi_df"
   ]
  },
  {
   "cell_type": "code",
   "execution_count": 15,
   "id": "f67cb18a",
   "metadata": {},
   "outputs": [],
   "source": [
    "ndvi_years = [d.year for d in  list(ndvi_df.date)]"
   ]
  },
  {
   "cell_type": "code",
   "execution_count": 16,
   "id": "fa633bf8",
   "metadata": {},
   "outputs": [],
   "source": [
    "ndvi_df[\"years\"] = ndvi_years "
   ]
  },
  {
   "cell_type": "code",
   "execution_count": 17,
   "id": "1128f562",
   "metadata": {},
   "outputs": [
    {
     "data": {
      "text/html": [
       "<div>\n",
       "<style scoped>\n",
       "    .dataframe tbody tr th:only-of-type {\n",
       "        vertical-align: middle;\n",
       "    }\n",
       "\n",
       "    .dataframe tbody tr th {\n",
       "        vertical-align: top;\n",
       "    }\n",
       "\n",
       "    .dataframe thead th {\n",
       "        text-align: right;\n",
       "    }\n",
       "</style>\n",
       "<table border=\"1\" class=\"dataframe\">\n",
       "  <thead>\n",
       "    <tr style=\"text-align: right;\">\n",
       "      <th></th>\n",
       "      <th>date</th>\n",
       "      <th>NDVI</th>\n",
       "      <th>date_intervals</th>\n",
       "      <th>years</th>\n",
       "    </tr>\n",
       "  </thead>\n",
       "  <tbody>\n",
       "    <tr>\n",
       "      <th>0</th>\n",
       "      <td>2018-01-27</td>\n",
       "      <td>No</td>\n",
       "      <td>2018-01-17</td>\n",
       "      <td>2018</td>\n",
       "    </tr>\n",
       "    <tr>\n",
       "      <th>1</th>\n",
       "      <td>2018-01-27</td>\n",
       "      <td>No</td>\n",
       "      <td>2018-01-17</td>\n",
       "      <td>2018</td>\n",
       "    </tr>\n",
       "    <tr>\n",
       "      <th>2</th>\n",
       "      <td>2018-02-04</td>\n",
       "      <td>No</td>\n",
       "      <td>2018-02-16</td>\n",
       "      <td>2018</td>\n",
       "    </tr>\n",
       "    <tr>\n",
       "      <th>3</th>\n",
       "      <td>2018-02-06</td>\n",
       "      <td>No</td>\n",
       "      <td>2018-02-16</td>\n",
       "      <td>2018</td>\n",
       "    </tr>\n",
       "    <tr>\n",
       "      <th>4</th>\n",
       "      <td>2018-03-08</td>\n",
       "      <td>No</td>\n",
       "      <td>2018-03-16</td>\n",
       "      <td>2018</td>\n",
       "    </tr>\n",
       "  </tbody>\n",
       "</table>\n",
       "</div>"
      ],
      "text/plain": [
       "        date NDVI date_intervals  years\n",
       "0 2018-01-27   No     2018-01-17   2018\n",
       "1 2018-01-27   No     2018-01-17   2018\n",
       "2 2018-02-04   No     2018-02-16   2018\n",
       "3 2018-02-06   No     2018-02-16   2018\n",
       "4 2018-03-08   No     2018-03-16   2018"
      ]
     },
     "execution_count": 17,
     "metadata": {},
     "output_type": "execute_result"
    }
   ],
   "source": [
    "ndvi_df.head()"
   ]
  },
  {
   "cell_type": "code",
   "execution_count": 18,
   "id": "22a9b0e6",
   "metadata": {},
   "outputs": [
    {
     "data": {
      "text/html": [
       "<div>\n",
       "<style scoped>\n",
       "    .dataframe tbody tr th:only-of-type {\n",
       "        vertical-align: middle;\n",
       "    }\n",
       "\n",
       "    .dataframe tbody tr th {\n",
       "        vertical-align: top;\n",
       "    }\n",
       "\n",
       "    .dataframe thead th {\n",
       "        text-align: right;\n",
       "    }\n",
       "</style>\n",
       "<table border=\"1\" class=\"dataframe\">\n",
       "  <thead>\n",
       "    <tr style=\"text-align: right;\">\n",
       "      <th></th>\n",
       "      <th>date</th>\n",
       "      <th>NNIRV</th>\n",
       "      <th>date_intervals</th>\n",
       "    </tr>\n",
       "  </thead>\n",
       "  <tbody>\n",
       "    <tr>\n",
       "      <th>0</th>\n",
       "      <td>2018-01-27</td>\n",
       "      <td>1048.940</td>\n",
       "      <td>2018-01-17</td>\n",
       "    </tr>\n",
       "    <tr>\n",
       "      <th>1</th>\n",
       "      <td>2018-01-27</td>\n",
       "      <td>811.749</td>\n",
       "      <td>2018-01-17</td>\n",
       "    </tr>\n",
       "    <tr>\n",
       "      <th>2</th>\n",
       "      <td>2018-02-04</td>\n",
       "      <td>966.929</td>\n",
       "      <td>2018-02-16</td>\n",
       "    </tr>\n",
       "    <tr>\n",
       "      <th>3</th>\n",
       "      <td>2018-02-06</td>\n",
       "      <td>1098.220</td>\n",
       "      <td>2018-02-16</td>\n",
       "    </tr>\n",
       "    <tr>\n",
       "      <th>4</th>\n",
       "      <td>2018-03-08</td>\n",
       "      <td>1322.750</td>\n",
       "      <td>2018-03-16</td>\n",
       "    </tr>\n",
       "  </tbody>\n",
       "</table>\n",
       "</div>"
      ],
      "text/plain": [
       "        date     NNIRV date_intervals\n",
       "0 2018-01-27  1048.940     2018-01-17\n",
       "1 2018-01-27   811.749     2018-01-17\n",
       "2 2018-02-04   966.929     2018-02-16\n",
       "3 2018-02-06  1098.220     2018-02-16\n",
       "4 2018-03-08  1322.750     2018-03-16"
      ]
     },
     "execution_count": 18,
     "metadata": {},
     "output_type": "execute_result"
    }
   ],
   "source": [
    "nnirv_dates_col = [set_end_intevals(1, 16, d, d.month)  for d in list(nnirv_df.date)]\n",
    "nnirv_df[\"date_intervals\"] = nnirv_dates_col\n",
    "nnirv_df.head()"
   ]
  },
  {
   "cell_type": "code",
   "execution_count": 19,
   "id": "9b6ce405",
   "metadata": {},
   "outputs": [],
   "source": [
    "nnirv_years = [d.year for d in  list(nnirv_df.date)]"
   ]
  },
  {
   "cell_type": "code",
   "execution_count": 20,
   "id": "70a5bb54",
   "metadata": {},
   "outputs": [],
   "source": [
    "nnirv_df[\"years\"] =nnirv_years"
   ]
  },
  {
   "cell_type": "code",
   "execution_count": 21,
   "id": "1344331b",
   "metadata": {},
   "outputs": [
    {
     "data": {
      "text/plain": [
       "0     2018-01-27\n",
       "1     2018-01-27\n",
       "2     2018-02-04\n",
       "3     2018-02-06\n",
       "4     2018-03-08\n",
       "         ...    \n",
       "271   2020-12-02\n",
       "270   2020-12-02\n",
       "272   2020-12-05\n",
       "273   2020-12-25\n",
       "274   2020-12-27\n",
       "Name: date, Length: 275, dtype: datetime64[ns]"
      ]
     },
     "execution_count": 21,
     "metadata": {},
     "output_type": "execute_result"
    }
   ],
   "source": [
    "nnirv_df.date"
   ]
  },
  {
   "cell_type": "code",
   "execution_count": 22,
   "id": "63508dc5",
   "metadata": {},
   "outputs": [],
   "source": [
    "grouped_nnirv = nnirv_df.groupby([\"years\",\"date_intervals\"])[[\"NNIRV\"]].mean()\n",
    "grouped_nnirv = grouped_nnirv.reset_index()"
   ]
  },
  {
   "cell_type": "code",
   "execution_count": null,
   "id": "8c80cdbc",
   "metadata": {},
   "outputs": [],
   "source": []
  },
  {
   "cell_type": "code",
   "execution_count": 23,
   "id": "a1eb8654",
   "metadata": {},
   "outputs": [],
   "source": [
    "intervals = list(grouped_nnirv[\"date_intervals\"])\n",
    "new_inter = []\n",
    "\n",
    "for d in intervals:\n",
    "    new_inter.append(rename_intervals(1, 16, d, d.month))\n",
    "    \n",
    "#new_inter\n",
    "#grouped_nnirv"
   ]
  },
  {
   "cell_type": "code",
   "execution_count": 24,
   "id": "e8f1a43c",
   "metadata": {
    "scrolled": true
   },
   "outputs": [
    {
     "data": {
      "image/png": "[encoded data removed]",
      "text/plain": [
       "<Figure size 1440x432 with 1 Axes>"
      ]
     },
     "metadata": {},
     "output_type": "display_data"
    }
   ],
   "source": [
    "sns.set(rc={'figure.figsize':(20,6)})\n",
    "fig, ax = plt.subplots(sharey=True, sharex=True)\n",
    "x_pos = np.arange(len(new_inter))\n",
    "_ = ax.plot(list(grouped_nnirv[\"NNIRV\"]))\n",
    "ax.set_xticks(x_pos)\n",
    "rects = ax.set_xticklabels(x_pos)\n",
    "_ = ax.set_xticklabels(new_inter,  rotation = 80)"
   ]
  },
  {
   "cell_type": "code",
   "execution_count": null,
   "id": "2aee4040",
   "metadata": {},
   "outputs": [],
   "source": []
  },
  {
   "cell_type": "code",
   "execution_count": null,
   "id": "158c68b8",
   "metadata": {},
   "outputs": [],
   "source": []
  },
  {
   "cell_type": "code",
   "execution_count": null,
   "id": "11b5de20",
   "metadata": {},
   "outputs": [],
   "source": []
  }
 ],
 "metadata": {
  "kernelspec": {
   "display_name": "Python 3",
   "language": "python",
   "name": "python3"
  },
  "language_info": {
   "codemirror_mode": {
    "name": "ipython",
    "version": 3
   },
   "file_extension": ".py",
   "mimetype": "text/x-python",
   "name": "python",
   "nbconvert_exporter": "python",
   "pygments_lexer": "ipython3",
   "version": "3.8.3"
  }
 },
 "nbformat": 4,
 "nbformat_minor": 5
}
