{
 "cells": [
  {
   "cell_type": "code",
   "execution_count": 1,
   "id": "eee5f13c-c711-401d-b2a0-399e523ea52f",
   "metadata": {},
   "outputs": [],
   "source": [
    "import numpy as np\n",
    "import pandas as pd\n",
    "import seaborn as sns\n",
    "import matplotlib.dates as mdates\n",
    "import datetime as dt\n",
    "import matplotlib.pyplot as plt\n",
    "from scipy.stats import pearsonr as pr\n",
    "from scipy import signal\n",
    "from scipy.signal import correlate\n"
   ]
  },
  {
   "cell_type": "code",
   "execution_count": 2,
   "id": "f152284c-b711-4d0d-888c-a2b422219cc0",
   "metadata": {},
   "outputs": [],
   "source": [
    "import os\n",
    "import sys"
   ]
  },
  {
   "cell_type": "code",
   "execution_count": 3,
   "id": "5d83144c-0ebc-4f8a-bd6a-df95ae706a27",
   "metadata": {},
   "outputs": [],
   "source": [
    "indice = pd.read_csv(\"C:/Users/Anne Ultelie Poinçon/Desktop/PracticePython/inputs/hm_ARVI.csv\")\n",
    "meteo = pd.read_csv(\"C:/Users/Anne Ultelie Poinçon/Desktop/PracticePython/inputs/hm_tempPrecip.csv\")\n",
    "shortwave= pd.read_csv(\"C:/Users/Anne Ultelie Poinçon/Desktop/PracticePython/inputs/shortwave.csv\")"
   ]
  },
  {
   "cell_type": "code",
   "execution_count": 4,
   "id": "9a4a4e1f-0c27-4480-856f-59240c91c2dd",
   "metadata": {},
   "outputs": [],
   "source": [
    "sys.path.append(os.path.join(os.path.dirname('__file__'), 'utils'))"
   ]
  },
  {
   "cell_type": "code",
   "execution_count": 5,
   "id": "f673901b-0981-4763-9cf3-f4217acfd5bb",
   "metadata": {},
   "outputs": [],
   "source": [
    "months = {\n",
    "    1: {\"name\":\"Jan\", \"end\":31},\n",
    "    2: {\"name\":\"Feb\", \"end\":28},\n",
    "    3: {\"name\":\"Mar\", \"end\":31},\n",
    "    4: {\"name\":\"Apr\", \"end\":30},\n",
    "    5: {\"name\":\"May\", \"end\":31},\n",
    "    6: {\"name\":\"June\", \"end\":30},\n",
    "    7: {\"name\":\"Jul\", \"end\":31},\n",
    "    8: {\"name\":\"Aug\", \"end\":31},\n",
    "    9: {\"name\":\"Sep\", \"end\":30},\n",
    "    10: {\"name\":\"Oct\", \"end\":31},\n",
    "    11: {\"name\":\"Nov\", \"end\":30},\n",
    "    12: {\"name\":\"Dec\", \"end\":31},\n",
    "}\n",
    "from datetime import datetime\n",
    "\n",
    "def str_to_float(num_str):\n",
    "    try:\n",
    "        nums = num_str.split(\",\")\n",
    "        if len(nums) >= 2:\n",
    "            val = float(\"\".join(nums))\n",
    "        else:\n",
    "            val = float(num_str)\n",
    "        return val\n",
    "    except Exception as e:\n",
    "        return \"No\"\n",
    "        print(e)\n",
    "        \n",
    "def formatStarter(day):\n",
    "    if day < 10:\n",
    "        return \"0\" + str(day)\n",
    "    return str(day)\n",
    "\n",
    "def set_end_intevals(starter, endPos, date, month_number):\n",
    "    \n",
    "    if date.day < endPos and date.month == month_number:\n",
    "        #return formatStarter(starter) + \" - \" + str(endPos) + \" \" + months[month_number][\"name\"] + \" \" + str(date.year)\n",
    "        return datetime(date.year, date.month, endPos).date()\n",
    "    elif date.day > endPos and date.month == month_number:\n",
    "         return datetime(date.year, date.month, endPos+1).date()\n",
    "        \n",
    "#return formatStarter(endPos+1) + \" - \" + str(months[month_number][\"end\"]) + \" \"+ months[month_number][\"name\"] + \" \" + str(date.year)\n",
    "    \n",
    "\n",
    "def rename_intervals(starter, endPos, date, month_number):\n",
    "    if date.day == endPos and date.month == month_number:\n",
    "        return formatStarter(starter) + \" - \" + str(endPos) + \" \" + months[month_number][\"name\"] + \" \" + str(date.year)\n",
    "    elif date.day > endPos and date.month == month_number:\n",
    "        return formatStarter(endPos+1) + \" - \" + str(months[month_number][\"end\"]) + \" \"+ months[month_number][\"name\"] + \" \" + str(date.year)"
   ]
  },
  {
   "cell_type": "code",
   "execution_count": 6,
   "id": "3c3df756-bfea-4ebf-aa2d-f19a3c02ead9",
   "metadata": {},
   "outputs": [
    {
     "data": {
      "text/html": [
       "<div>\n",
       "<style scoped>\n",
       "    .dataframe tbody tr th:only-of-type {\n",
       "        vertical-align: middle;\n",
       "    }\n",
       "\n",
       "    .dataframe tbody tr th {\n",
       "        vertical-align: top;\n",
       "    }\n",
       "\n",
       "    .dataframe thead th {\n",
       "        text-align: right;\n",
       "    }\n",
       "</style>\n",
       "<table border=\"1\" class=\"dataframe\">\n",
       "  <thead>\n",
       "    <tr style=\"text-align: right;\">\n",
       "      <th></th>\n",
       "      <th>system:time_start</th>\n",
       "      <th>surface_solar_radiation_downwards</th>\n",
       "    </tr>\n",
       "  </thead>\n",
       "  <tbody>\n",
       "    <tr>\n",
       "      <th>0</th>\n",
       "      <td>Jan 1, 2018</td>\n",
       "      <td>5,221,649.833</td>\n",
       "    </tr>\n",
       "    <tr>\n",
       "      <th>1</th>\n",
       "      <td>Jan 2, 2018</td>\n",
       "      <td>4,335,803.333</td>\n",
       "    </tr>\n",
       "    <tr>\n",
       "      <th>2</th>\n",
       "      <td>Jan 3, 2018</td>\n",
       "      <td>2,117,488.5</td>\n",
       "    </tr>\n",
       "    <tr>\n",
       "      <th>3</th>\n",
       "      <td>Jan 4, 2018</td>\n",
       "      <td>1,309,567.667</td>\n",
       "    </tr>\n",
       "    <tr>\n",
       "      <th>4</th>\n",
       "      <td>Jan 5, 2018</td>\n",
       "      <td>2,322,941.5</td>\n",
       "    </tr>\n",
       "  </tbody>\n",
       "</table>\n",
       "</div>"
      ],
      "text/plain": [
       "  system:time_start surface_solar_radiation_downwards\n",
       "0       Jan 1, 2018                     5,221,649.833\n",
       "1       Jan 2, 2018                     4,335,803.333\n",
       "2       Jan 3, 2018                       2,117,488.5\n",
       "3       Jan 4, 2018                     1,309,567.667\n",
       "4       Jan 5, 2018                       2,322,941.5"
      ]
     },
     "execution_count": 6,
     "metadata": {},
     "output_type": "execute_result"
    }
   ],
   "source": [
    "shortwave.head()"
   ]
  },
  {
   "cell_type": "code",
   "execution_count": 7,
   "id": "e1d24b9d-132c-4f9e-86f1-dff3b904849e",
   "metadata": {},
   "outputs": [
    {
     "data": {
      "text/html": [
       "<div>\n",
       "<style scoped>\n",
       "    .dataframe tbody tr th:only-of-type {\n",
       "        vertical-align: middle;\n",
       "    }\n",
       "\n",
       "    .dataframe tbody tr th {\n",
       "        vertical-align: top;\n",
       "    }\n",
       "\n",
       "    .dataframe thead th {\n",
       "        text-align: right;\n",
       "    }\n",
       "</style>\n",
       "<table border=\"1\" class=\"dataframe\">\n",
       "  <thead>\n",
       "    <tr style=\"text-align: right;\">\n",
       "      <th></th>\n",
       "      <th>system:time_start</th>\n",
       "      <th>surface_solar_radiation_downwards</th>\n",
       "    </tr>\n",
       "  </thead>\n",
       "  <tbody>\n",
       "    <tr>\n",
       "      <th>905</th>\n",
       "      <td>Jun 24, 2020</td>\n",
       "      <td>8,155,515.417</td>\n",
       "    </tr>\n",
       "    <tr>\n",
       "      <th>906</th>\n",
       "      <td>Jun 25, 2020</td>\n",
       "      <td>7,811,999.333</td>\n",
       "    </tr>\n",
       "    <tr>\n",
       "      <th>907</th>\n",
       "      <td>Jun 26, 2020</td>\n",
       "      <td>7,865,486.667</td>\n",
       "    </tr>\n",
       "    <tr>\n",
       "      <th>908</th>\n",
       "      <td>Jun 27, 2020</td>\n",
       "      <td>7,910,742.083</td>\n",
       "    </tr>\n",
       "    <tr>\n",
       "      <th>909</th>\n",
       "      <td>Jun 28, 2020</td>\n",
       "      <td>7,899,381</td>\n",
       "    </tr>\n",
       "  </tbody>\n",
       "</table>\n",
       "</div>"
      ],
      "text/plain": [
       "    system:time_start surface_solar_radiation_downwards\n",
       "905      Jun 24, 2020                     8,155,515.417\n",
       "906      Jun 25, 2020                     7,811,999.333\n",
       "907      Jun 26, 2020                     7,865,486.667\n",
       "908      Jun 27, 2020                     7,910,742.083\n",
       "909      Jun 28, 2020                         7,899,381"
      ]
     },
     "execution_count": 7,
     "metadata": {},
     "output_type": "execute_result"
    }
   ],
   "source": [
    "shortwave.tail()"
   ]
  },
  {
   "cell_type": "code",
   "execution_count": 8,
   "id": "c64708e1-6d51-4249-8154-ed5b942a8b57",
   "metadata": {},
   "outputs": [
    {
     "data": {
      "text/html": [
       "<div>\n",
       "<style scoped>\n",
       "    .dataframe tbody tr th:only-of-type {\n",
       "        vertical-align: middle;\n",
       "    }\n",
       "\n",
       "    .dataframe tbody tr th {\n",
       "        vertical-align: top;\n",
       "    }\n",
       "\n",
       "    .dataframe thead th {\n",
       "        text-align: right;\n",
       "    }\n",
       "</style>\n",
       "<table border=\"1\" class=\"dataframe\">\n",
       "  <thead>\n",
       "    <tr style=\"text-align: right;\">\n",
       "      <th></th>\n",
       "      <th>system:time_start</th>\n",
       "      <th>ARVI</th>\n",
       "    </tr>\n",
       "  </thead>\n",
       "  <tbody>\n",
       "    <tr>\n",
       "      <th>0</th>\n",
       "      <td>8-Jan-18</td>\n",
       "      <td>1.317</td>\n",
       "    </tr>\n",
       "    <tr>\n",
       "      <th>1</th>\n",
       "      <td>9-Jan-18</td>\n",
       "      <td>0.954</td>\n",
       "    </tr>\n",
       "    <tr>\n",
       "      <th>2</th>\n",
       "      <td>8-Feb-18</td>\n",
       "      <td>0.995</td>\n",
       "    </tr>\n",
       "    <tr>\n",
       "      <th>3</th>\n",
       "      <td>9-Feb-18</td>\n",
       "      <td>0.859</td>\n",
       "    </tr>\n",
       "    <tr>\n",
       "      <th>4</th>\n",
       "      <td>8-Mar-18</td>\n",
       "      <td>0.941</td>\n",
       "    </tr>\n",
       "  </tbody>\n",
       "</table>\n",
       "</div>"
      ],
      "text/plain": [
       "  system:time_start   ARVI\n",
       "0          8-Jan-18  1.317\n",
       "1          9-Jan-18  0.954\n",
       "2          8-Feb-18  0.995\n",
       "3          9-Feb-18  0.859\n",
       "4          8-Mar-18  0.941"
      ]
     },
     "execution_count": 8,
     "metadata": {},
     "output_type": "execute_result"
    }
   ],
   "source": [
    "indice.head()"
   ]
  },
  {
   "cell_type": "code",
   "execution_count": 9,
   "id": "4062a839-6515-4569-beeb-712225bcc1c6",
   "metadata": {},
   "outputs": [
    {
     "data": {
      "text/html": [
       "<div>\n",
       "<style scoped>\n",
       "    .dataframe tbody tr th:only-of-type {\n",
       "        vertical-align: middle;\n",
       "    }\n",
       "\n",
       "    .dataframe tbody tr th {\n",
       "        vertical-align: top;\n",
       "    }\n",
       "\n",
       "    .dataframe thead th {\n",
       "        text-align: right;\n",
       "    }\n",
       "</style>\n",
       "<table border=\"1\" class=\"dataframe\">\n",
       "  <thead>\n",
       "    <tr style=\"text-align: right;\">\n",
       "      <th></th>\n",
       "      <th>system:time_start</th>\n",
       "      <th>mean_2m_air_temperature</th>\n",
       "      <th>total_precipitation</th>\n",
       "    </tr>\n",
       "  </thead>\n",
       "  <tbody>\n",
       "    <tr>\n",
       "      <th>0</th>\n",
       "      <td>Jan 8, 2018</td>\n",
       "      <td>25.562</td>\n",
       "      <td>NaN</td>\n",
       "    </tr>\n",
       "    <tr>\n",
       "      <th>1</th>\n",
       "      <td>Jan 8, 2018</td>\n",
       "      <td>NaN</td>\n",
       "      <td>1.96</td>\n",
       "    </tr>\n",
       "    <tr>\n",
       "      <th>2</th>\n",
       "      <td>Jan 9, 2018</td>\n",
       "      <td>25.885</td>\n",
       "      <td>NaN</td>\n",
       "    </tr>\n",
       "    <tr>\n",
       "      <th>3</th>\n",
       "      <td>Jan 9, 2018</td>\n",
       "      <td>NaN</td>\n",
       "      <td>0.42</td>\n",
       "    </tr>\n",
       "    <tr>\n",
       "      <th>4</th>\n",
       "      <td>Feb 8, 2018</td>\n",
       "      <td>25.710</td>\n",
       "      <td>NaN</td>\n",
       "    </tr>\n",
       "  </tbody>\n",
       "</table>\n",
       "</div>"
      ],
      "text/plain": [
       "  system:time_start  mean_2m_air_temperature  total_precipitation\n",
       "0       Jan 8, 2018                   25.562                  NaN\n",
       "1       Jan 8, 2018                      NaN                 1.96\n",
       "2       Jan 9, 2018                   25.885                  NaN\n",
       "3       Jan 9, 2018                      NaN                 0.42\n",
       "4       Feb 8, 2018                   25.710                  NaN"
      ]
     },
     "execution_count": 9,
     "metadata": {},
     "output_type": "execute_result"
    }
   ],
   "source": [
    "meteo.head()"
   ]
  },
  {
   "cell_type": "code",
   "execution_count": 10,
   "id": "ca1ab915-f8ba-48b7-8208-75b64a5fcb0c",
   "metadata": {},
   "outputs": [
    {
     "data": {
      "text/html": [
       "<div>\n",
       "<style scoped>\n",
       "    .dataframe tbody tr th:only-of-type {\n",
       "        vertical-align: middle;\n",
       "    }\n",
       "\n",
       "    .dataframe tbody tr th {\n",
       "        vertical-align: top;\n",
       "    }\n",
       "\n",
       "    .dataframe thead th {\n",
       "        text-align: right;\n",
       "    }\n",
       "</style>\n",
       "<table border=\"1\" class=\"dataframe\">\n",
       "  <thead>\n",
       "    <tr style=\"text-align: right;\">\n",
       "      <th></th>\n",
       "      <th>system:time_start</th>\n",
       "      <th>ARVI</th>\n",
       "    </tr>\n",
       "  </thead>\n",
       "  <tbody>\n",
       "    <tr>\n",
       "      <th>55</th>\n",
       "      <td>9-Apr-20</td>\n",
       "      <td>0.627</td>\n",
       "    </tr>\n",
       "    <tr>\n",
       "      <th>56</th>\n",
       "      <td>8-May-20</td>\n",
       "      <td>0.507</td>\n",
       "    </tr>\n",
       "    <tr>\n",
       "      <th>57</th>\n",
       "      <td>9-May-20</td>\n",
       "      <td>0.593</td>\n",
       "    </tr>\n",
       "    <tr>\n",
       "      <th>58</th>\n",
       "      <td>8-Jun-20</td>\n",
       "      <td>0.572</td>\n",
       "    </tr>\n",
       "    <tr>\n",
       "      <th>59</th>\n",
       "      <td>9-Jun-20</td>\n",
       "      <td>0.613</td>\n",
       "    </tr>\n",
       "  </tbody>\n",
       "</table>\n",
       "</div>"
      ],
      "text/plain": [
       "   system:time_start   ARVI\n",
       "55          9-Apr-20  0.627\n",
       "56          8-May-20  0.507\n",
       "57          9-May-20  0.593\n",
       "58          8-Jun-20  0.572\n",
       "59          9-Jun-20  0.613"
      ]
     },
     "execution_count": 10,
     "metadata": {},
     "output_type": "execute_result"
    }
   ],
   "source": [
    "indice.tail()"
   ]
  },
  {
   "cell_type": "code",
   "execution_count": 11,
   "id": "aee59fc6-53c7-49a2-914f-75543147f67b",
   "metadata": {},
   "outputs": [
    {
     "data": {
      "text/html": [
       "<div>\n",
       "<style scoped>\n",
       "    .dataframe tbody tr th:only-of-type {\n",
       "        vertical-align: middle;\n",
       "    }\n",
       "\n",
       "    .dataframe tbody tr th {\n",
       "        vertical-align: top;\n",
       "    }\n",
       "\n",
       "    .dataframe thead th {\n",
       "        text-align: right;\n",
       "    }\n",
       "</style>\n",
       "<table border=\"1\" class=\"dataframe\">\n",
       "  <thead>\n",
       "    <tr style=\"text-align: right;\">\n",
       "      <th></th>\n",
       "      <th>system:time_start</th>\n",
       "      <th>mean_2m_air_temperature</th>\n",
       "      <th>total_precipitation</th>\n",
       "    </tr>\n",
       "  </thead>\n",
       "  <tbody>\n",
       "    <tr>\n",
       "      <th>117</th>\n",
       "      <td>Jun 8, 2020</td>\n",
       "      <td>NaN</td>\n",
       "      <td>0.636</td>\n",
       "    </tr>\n",
       "    <tr>\n",
       "      <th>118</th>\n",
       "      <td>Jun 9, 2020</td>\n",
       "      <td>27.808</td>\n",
       "      <td>NaN</td>\n",
       "    </tr>\n",
       "    <tr>\n",
       "      <th>119</th>\n",
       "      <td>Jun 9, 2020</td>\n",
       "      <td>NaN</td>\n",
       "      <td>0.506</td>\n",
       "    </tr>\n",
       "    <tr>\n",
       "      <th>120</th>\n",
       "      <td>Jul 8, 2020</td>\n",
       "      <td>28.356</td>\n",
       "      <td>NaN</td>\n",
       "    </tr>\n",
       "    <tr>\n",
       "      <th>121</th>\n",
       "      <td>Jul 8, 2020</td>\n",
       "      <td>NaN</td>\n",
       "      <td>0.246</td>\n",
       "    </tr>\n",
       "  </tbody>\n",
       "</table>\n",
       "</div>"
      ],
      "text/plain": [
       "    system:time_start  mean_2m_air_temperature  total_precipitation\n",
       "117       Jun 8, 2020                      NaN                0.636\n",
       "118       Jun 9, 2020                   27.808                  NaN\n",
       "119       Jun 9, 2020                      NaN                0.506\n",
       "120       Jul 8, 2020                   28.356                  NaN\n",
       "121       Jul 8, 2020                      NaN                0.246"
      ]
     },
     "execution_count": 11,
     "metadata": {},
     "output_type": "execute_result"
    }
   ],
   "source": [
    "meteo.tail()"
   ]
  },
  {
   "cell_type": "code",
   "execution_count": 12,
   "id": "d6c7c83e-5775-4842-9378-edae769c9dfc",
   "metadata": {},
   "outputs": [],
   "source": [
    "meteo.columns = ['date','temperature', 'precipitation']"
   ]
  },
  {
   "cell_type": "code",
   "execution_count": 13,
   "id": "e05bedd6-ad78-4e2f-8de2-5c70514dec85",
   "metadata": {},
   "outputs": [],
   "source": [
    "indice.columns = ['date','ARVI']\n",
    "#indice['date'] = [dt.datetime.strptime(d,'%B %d, %Y').date() for d in indice['date']]"
   ]
  },
  {
   "cell_type": "code",
   "execution_count": 14,
   "id": "73c14985-17ef-4483-945e-3c3007990cd3",
   "metadata": {},
   "outputs": [],
   "source": [
    "shortwave.columns=['date','shortwaves']"
   ]
  },
  {
   "cell_type": "code",
   "execution_count": 15,
   "id": "526cca7f-eb23-4ae4-9e93-52bd0629f390",
   "metadata": {},
   "outputs": [],
   "source": [
    "shortwave_df= shortwave.copy()"
   ]
  },
  {
   "cell_type": "code",
   "execution_count": 16,
   "id": "8616576d-d75b-476d-92b8-8bb1a1515b8e",
   "metadata": {},
   "outputs": [],
   "source": [
    "indice_df= indice.copy()"
   ]
  },
  {
   "cell_type": "code",
   "execution_count": 17,
   "id": "acfa22d3-a848-4276-a878-4e4e89ca7189",
   "metadata": {},
   "outputs": [],
   "source": [
    "shortwave_df= shortwave_df.set_index('date')"
   ]
  },
  {
   "cell_type": "code",
   "execution_count": 18,
   "id": "dd2f30fb-cd06-45e2-84d6-3737b4fd943c",
   "metadata": {},
   "outputs": [],
   "source": [
    "indice_df=indice_df.set_index('date')"
   ]
  },
  {
   "cell_type": "code",
   "execution_count": 19,
   "id": "096d55ed-62bd-4388-b334-ba87441ad62d",
   "metadata": {},
   "outputs": [
    {
     "data": {
      "text/html": [
       "<div>\n",
       "<style scoped>\n",
       "    .dataframe tbody tr th:only-of-type {\n",
       "        vertical-align: middle;\n",
       "    }\n",
       "\n",
       "    .dataframe tbody tr th {\n",
       "        vertical-align: top;\n",
       "    }\n",
       "\n",
       "    .dataframe thead th {\n",
       "        text-align: right;\n",
       "    }\n",
       "</style>\n",
       "<table border=\"1\" class=\"dataframe\">\n",
       "  <thead>\n",
       "    <tr style=\"text-align: right;\">\n",
       "      <th></th>\n",
       "      <th>date</th>\n",
       "      <th>shortwaves</th>\n",
       "    </tr>\n",
       "  </thead>\n",
       "  <tbody>\n",
       "    <tr>\n",
       "      <th>0</th>\n",
       "      <td>Jan 1, 2018</td>\n",
       "      <td>5,221,649.833</td>\n",
       "    </tr>\n",
       "    <tr>\n",
       "      <th>1</th>\n",
       "      <td>Jan 2, 2018</td>\n",
       "      <td>4,335,803.333</td>\n",
       "    </tr>\n",
       "    <tr>\n",
       "      <th>2</th>\n",
       "      <td>Jan 3, 2018</td>\n",
       "      <td>2,117,488.5</td>\n",
       "    </tr>\n",
       "    <tr>\n",
       "      <th>3</th>\n",
       "      <td>Jan 4, 2018</td>\n",
       "      <td>1,309,567.667</td>\n",
       "    </tr>\n",
       "    <tr>\n",
       "      <th>4</th>\n",
       "      <td>Jan 5, 2018</td>\n",
       "      <td>2,322,941.5</td>\n",
       "    </tr>\n",
       "  </tbody>\n",
       "</table>\n",
       "</div>"
      ],
      "text/plain": [
       "          date     shortwaves\n",
       "0  Jan 1, 2018  5,221,649.833\n",
       "1  Jan 2, 2018  4,335,803.333\n",
       "2  Jan 3, 2018    2,117,488.5\n",
       "3  Jan 4, 2018  1,309,567.667\n",
       "4  Jan 5, 2018    2,322,941.5"
      ]
     },
     "execution_count": 19,
     "metadata": {},
     "output_type": "execute_result"
    }
   ],
   "source": [
    "shortwave.head()"
   ]
  },
  {
   "cell_type": "code",
   "execution_count": 20,
   "id": "6c42cc3b-c58c-4fab-af20-7405896e8f8b",
   "metadata": {},
   "outputs": [
    {
     "data": {
      "text/html": [
       "<div>\n",
       "<style scoped>\n",
       "    .dataframe tbody tr th:only-of-type {\n",
       "        vertical-align: middle;\n",
       "    }\n",
       "\n",
       "    .dataframe tbody tr th {\n",
       "        vertical-align: top;\n",
       "    }\n",
       "\n",
       "    .dataframe thead th {\n",
       "        text-align: right;\n",
       "    }\n",
       "</style>\n",
       "<table border=\"1\" class=\"dataframe\">\n",
       "  <thead>\n",
       "    <tr style=\"text-align: right;\">\n",
       "      <th></th>\n",
       "      <th>date</th>\n",
       "      <th>ARVI</th>\n",
       "    </tr>\n",
       "  </thead>\n",
       "  <tbody>\n",
       "    <tr>\n",
       "      <th>0</th>\n",
       "      <td>8-Jan-18</td>\n",
       "      <td>1.317</td>\n",
       "    </tr>\n",
       "    <tr>\n",
       "      <th>1</th>\n",
       "      <td>9-Jan-18</td>\n",
       "      <td>0.954</td>\n",
       "    </tr>\n",
       "    <tr>\n",
       "      <th>2</th>\n",
       "      <td>8-Feb-18</td>\n",
       "      <td>0.995</td>\n",
       "    </tr>\n",
       "    <tr>\n",
       "      <th>3</th>\n",
       "      <td>9-Feb-18</td>\n",
       "      <td>0.859</td>\n",
       "    </tr>\n",
       "    <tr>\n",
       "      <th>4</th>\n",
       "      <td>8-Mar-18</td>\n",
       "      <td>0.941</td>\n",
       "    </tr>\n",
       "  </tbody>\n",
       "</table>\n",
       "</div>"
      ],
      "text/plain": [
       "       date   ARVI\n",
       "0  8-Jan-18  1.317\n",
       "1  9-Jan-18  0.954\n",
       "2  8-Feb-18  0.995\n",
       "3  9-Feb-18  0.859\n",
       "4  8-Mar-18  0.941"
      ]
     },
     "execution_count": 20,
     "metadata": {},
     "output_type": "execute_result"
    }
   ],
   "source": [
    "indice.head()"
   ]
  },
  {
   "cell_type": "code",
   "execution_count": 21,
   "id": "1a1cd274-5377-44d4-b877-707c25c2bc97",
   "metadata": {},
   "outputs": [
    {
     "data": {
      "text/plain": [
       "(60, 2)"
      ]
     },
     "execution_count": 21,
     "metadata": {},
     "output_type": "execute_result"
    }
   ],
   "source": [
    "indice.shape"
   ]
  },
  {
   "cell_type": "code",
   "execution_count": 22,
   "id": "2641a438-ed54-4d7c-9fb5-b7ed188b340f",
   "metadata": {},
   "outputs": [
    {
     "data": {
      "text/html": [
       "<div>\n",
       "<style scoped>\n",
       "    .dataframe tbody tr th:only-of-type {\n",
       "        vertical-align: middle;\n",
       "    }\n",
       "\n",
       "    .dataframe tbody tr th {\n",
       "        vertical-align: top;\n",
       "    }\n",
       "\n",
       "    .dataframe thead th {\n",
       "        text-align: right;\n",
       "    }\n",
       "</style>\n",
       "<table border=\"1\" class=\"dataframe\">\n",
       "  <thead>\n",
       "    <tr style=\"text-align: right;\">\n",
       "      <th></th>\n",
       "      <th>date</th>\n",
       "      <th>temperature</th>\n",
       "      <th>precipitation</th>\n",
       "    </tr>\n",
       "  </thead>\n",
       "  <tbody>\n",
       "    <tr>\n",
       "      <th>0</th>\n",
       "      <td>Jan 8, 2018</td>\n",
       "      <td>25.562</td>\n",
       "      <td>NaN</td>\n",
       "    </tr>\n",
       "    <tr>\n",
       "      <th>1</th>\n",
       "      <td>Jan 8, 2018</td>\n",
       "      <td>NaN</td>\n",
       "      <td>1.96</td>\n",
       "    </tr>\n",
       "  </tbody>\n",
       "</table>\n",
       "</div>"
      ],
      "text/plain": [
       "          date  temperature  precipitation\n",
       "0  Jan 8, 2018       25.562            NaN\n",
       "1  Jan 8, 2018          NaN           1.96"
      ]
     },
     "execution_count": 22,
     "metadata": {},
     "output_type": "execute_result"
    }
   ],
   "source": [
    "meteo.head(2)"
   ]
  },
  {
   "cell_type": "code",
   "execution_count": 23,
   "id": "51d2131c-e555-448c-8d2a-c68be8ae3a3c",
   "metadata": {},
   "outputs": [
    {
     "data": {
      "text/plain": [
       "(122, 3)"
      ]
     },
     "execution_count": 23,
     "metadata": {},
     "output_type": "execute_result"
    }
   ],
   "source": [
    "meteo.shape"
   ]
  },
  {
   "cell_type": "code",
   "execution_count": 24,
   "id": "3ed29103-bd6d-4cef-aace-ce6c87269546",
   "metadata": {},
   "outputs": [],
   "source": [
    "meteo_temp= meteo[[\"date\", \"temperature\"]]"
   ]
  },
  {
   "cell_type": "code",
   "execution_count": 25,
   "id": "bf3ee158-3491-4f03-a837-8df66953c5a4",
   "metadata": {},
   "outputs": [
    {
     "data": {
      "text/plain": [
       "(122, 2)"
      ]
     },
     "execution_count": 25,
     "metadata": {},
     "output_type": "execute_result"
    }
   ],
   "source": [
    "meteo_temp.shape"
   ]
  },
  {
   "cell_type": "code",
   "execution_count": 26,
   "id": "ba67d311-7d1b-4792-a128-1c5cd589c3b7",
   "metadata": {},
   "outputs": [],
   "source": [
    "meteo_temp=meteo_temp.dropna()"
   ]
  },
  {
   "cell_type": "code",
   "execution_count": 27,
   "id": "bddca29f-d8e4-47a7-a4bc-964504bd1b4a",
   "metadata": {},
   "outputs": [
    {
     "data": {
      "text/plain": [
       "(61, 2)"
      ]
     },
     "execution_count": 27,
     "metadata": {},
     "output_type": "execute_result"
    }
   ],
   "source": [
    "meteo_temp.shape"
   ]
  },
  {
   "cell_type": "code",
   "execution_count": 28,
   "id": "120f52d9-429d-4a75-ab7e-fa25ac813d89",
   "metadata": {},
   "outputs": [],
   "source": [
    "meteo_precip=meteo[[\"date\", \"precipitation\"]]"
   ]
  },
  {
   "cell_type": "code",
   "execution_count": 29,
   "id": "e35926ac-f042-400d-8e2b-f3af853427b4",
   "metadata": {},
   "outputs": [
    {
     "data": {
      "text/plain": [
       "(122, 2)"
      ]
     },
     "execution_count": 29,
     "metadata": {},
     "output_type": "execute_result"
    }
   ],
   "source": [
    "meteo_precip.shape"
   ]
  },
  {
   "cell_type": "code",
   "execution_count": 30,
   "id": "5c871a6e-a44b-48d5-992c-00b200b7053c",
   "metadata": {},
   "outputs": [
    {
     "data": {
      "text/html": [
       "<div>\n",
       "<style scoped>\n",
       "    .dataframe tbody tr th:only-of-type {\n",
       "        vertical-align: middle;\n",
       "    }\n",
       "\n",
       "    .dataframe tbody tr th {\n",
       "        vertical-align: top;\n",
       "    }\n",
       "\n",
       "    .dataframe thead th {\n",
       "        text-align: right;\n",
       "    }\n",
       "</style>\n",
       "<table border=\"1\" class=\"dataframe\">\n",
       "  <thead>\n",
       "    <tr style=\"text-align: right;\">\n",
       "      <th></th>\n",
       "      <th>date</th>\n",
       "      <th>precipitation</th>\n",
       "    </tr>\n",
       "  </thead>\n",
       "  <tbody>\n",
       "    <tr>\n",
       "      <th>0</th>\n",
       "      <td>Jan 8, 2018</td>\n",
       "      <td>NaN</td>\n",
       "    </tr>\n",
       "    <tr>\n",
       "      <th>1</th>\n",
       "      <td>Jan 8, 2018</td>\n",
       "      <td>1.96</td>\n",
       "    </tr>\n",
       "    <tr>\n",
       "      <th>2</th>\n",
       "      <td>Jan 9, 2018</td>\n",
       "      <td>NaN</td>\n",
       "    </tr>\n",
       "    <tr>\n",
       "      <th>3</th>\n",
       "      <td>Jan 9, 2018</td>\n",
       "      <td>0.42</td>\n",
       "    </tr>\n",
       "    <tr>\n",
       "      <th>4</th>\n",
       "      <td>Feb 8, 2018</td>\n",
       "      <td>NaN</td>\n",
       "    </tr>\n",
       "  </tbody>\n",
       "</table>\n",
       "</div>"
      ],
      "text/plain": [
       "          date  precipitation\n",
       "0  Jan 8, 2018            NaN\n",
       "1  Jan 8, 2018           1.96\n",
       "2  Jan 9, 2018            NaN\n",
       "3  Jan 9, 2018           0.42\n",
       "4  Feb 8, 2018            NaN"
      ]
     },
     "execution_count": 30,
     "metadata": {},
     "output_type": "execute_result"
    }
   ],
   "source": [
    "meteo_precip.head()"
   ]
  },
  {
   "cell_type": "code",
   "execution_count": 31,
   "id": "98932b80-288d-4225-b20c-91bec0baabf3",
   "metadata": {},
   "outputs": [],
   "source": [
    "meteo_precip = meteo_precip.dropna()"
   ]
  },
  {
   "cell_type": "code",
   "execution_count": 32,
   "id": "19d7cd60-c336-4311-a080-cacab5877b0e",
   "metadata": {},
   "outputs": [
    {
     "data": {
      "text/plain": [
       "(61, 2)"
      ]
     },
     "execution_count": 32,
     "metadata": {},
     "output_type": "execute_result"
    }
   ],
   "source": [
    "meteo_precip.shape"
   ]
  },
  {
   "cell_type": "code",
   "execution_count": 33,
   "id": "7e6de466-38fb-48d7-9651-30dd07e03d76",
   "metadata": {},
   "outputs": [],
   "source": [
    "shortwave= shortwave.dropna()"
   ]
  },
  {
   "cell_type": "code",
   "execution_count": 34,
   "id": "fae8cf42-4756-4548-933f-c35df049e6da",
   "metadata": {},
   "outputs": [
    {
     "data": {
      "text/plain": [
       "(910, 2)"
      ]
     },
     "execution_count": 34,
     "metadata": {},
     "output_type": "execute_result"
    }
   ],
   "source": [
    "shortwave.shape"
   ]
  },
  {
   "cell_type": "code",
   "execution_count": null,
   "id": "4faa6dfd-cb1c-4161-af5d-fb949841794f",
   "metadata": {},
   "outputs": [],
   "source": []
  },
  {
   "cell_type": "code",
   "execution_count": 35,
   "id": "cbbdd571-f4f9-4f3a-89fd-8352c111d1d1",
   "metadata": {},
   "outputs": [],
   "source": [
    "date1= list(meteo_temp['date'])"
   ]
  },
  {
   "cell_type": "code",
   "execution_count": 36,
   "id": "0b91072f-e778-4b34-82f1-a1173d679273",
   "metadata": {},
   "outputs": [],
   "source": [
    "date2= list(meteo_precip['date'])"
   ]
  },
  {
   "cell_type": "code",
   "execution_count": 37,
   "id": "2647b385-7ca5-4763-8fea-eb02b7174d5b",
   "metadata": {},
   "outputs": [],
   "source": [
    "for i in range(len(date1)):\n",
    "    assert date1[i]==date2[i]"
   ]
  },
  {
   "cell_type": "code",
   "execution_count": 38,
   "id": "1923709b-2be6-4092-9d9b-8914d171d542",
   "metadata": {},
   "outputs": [],
   "source": [
    "df=meteo_temp.merge(meteo_precip)"
   ]
  },
  {
   "cell_type": "code",
   "execution_count": 39,
   "id": "ec45f9c6-f236-4060-9887-7d671a252254",
   "metadata": {},
   "outputs": [
    {
     "ename": "ValueError",
     "evalue": "time data '8-Jan-18' does not match format '%b %d, %Y'",
     "output_type": "error",
     "traceback": [
      "\u001b[1;31m---------------------------------------------------------------------------\u001b[0m",
      "\u001b[1;31mValueError\u001b[0m                                Traceback (most recent call last)",
      "\u001b[1;32m<ipython-input-39-015a2c09d8ea>\u001b[0m in \u001b[0;36m<module>\u001b[1;34m\u001b[0m\n\u001b[0;32m      2\u001b[0m \u001b[0mmeteo_temp\u001b[0m\u001b[1;33m[\u001b[0m\u001b[1;34m'date'\u001b[0m\u001b[1;33m]\u001b[0m \u001b[1;33m=\u001b[0m \u001b[1;33m[\u001b[0m\u001b[0mdt\u001b[0m\u001b[1;33m.\u001b[0m\u001b[0mdatetime\u001b[0m\u001b[1;33m.\u001b[0m\u001b[0mstrptime\u001b[0m\u001b[1;33m(\u001b[0m\u001b[0md\u001b[0m\u001b[1;33m,\u001b[0m\u001b[1;34m'%b %d, %Y'\u001b[0m\u001b[1;33m)\u001b[0m\u001b[1;33m.\u001b[0m\u001b[0mdate\u001b[0m\u001b[1;33m(\u001b[0m\u001b[1;33m)\u001b[0m \u001b[1;32mfor\u001b[0m \u001b[0md\u001b[0m \u001b[1;32min\u001b[0m \u001b[0mmeteo_temp\u001b[0m\u001b[1;33m[\u001b[0m\u001b[1;34m'date'\u001b[0m\u001b[1;33m]\u001b[0m\u001b[1;33m]\u001b[0m\u001b[1;33m\u001b[0m\u001b[1;33m\u001b[0m\u001b[0m\n\u001b[0;32m      3\u001b[0m \u001b[0mmeteo_precip\u001b[0m\u001b[1;33m[\u001b[0m\u001b[1;34m'date'\u001b[0m\u001b[1;33m]\u001b[0m \u001b[1;33m=\u001b[0m \u001b[1;33m[\u001b[0m\u001b[0mdt\u001b[0m\u001b[1;33m.\u001b[0m\u001b[0mdatetime\u001b[0m\u001b[1;33m.\u001b[0m\u001b[0mstrptime\u001b[0m\u001b[1;33m(\u001b[0m\u001b[0md\u001b[0m\u001b[1;33m,\u001b[0m\u001b[1;34m'%b %d, %Y'\u001b[0m\u001b[1;33m)\u001b[0m\u001b[1;33m.\u001b[0m\u001b[0mdate\u001b[0m\u001b[1;33m(\u001b[0m\u001b[1;33m)\u001b[0m \u001b[1;32mfor\u001b[0m \u001b[0md\u001b[0m \u001b[1;32min\u001b[0m \u001b[0mmeteo_precip\u001b[0m\u001b[1;33m[\u001b[0m\u001b[1;34m'date'\u001b[0m\u001b[1;33m]\u001b[0m\u001b[1;33m]\u001b[0m\u001b[1;33m\u001b[0m\u001b[1;33m\u001b[0m\u001b[0m\n\u001b[1;32m----> 4\u001b[1;33m \u001b[0mindice\u001b[0m\u001b[1;33m[\u001b[0m\u001b[1;34m'date'\u001b[0m\u001b[1;33m]\u001b[0m \u001b[1;33m=\u001b[0m \u001b[1;33m[\u001b[0m\u001b[0mdt\u001b[0m\u001b[1;33m.\u001b[0m\u001b[0mdatetime\u001b[0m\u001b[1;33m.\u001b[0m\u001b[0mstrptime\u001b[0m\u001b[1;33m(\u001b[0m\u001b[0md\u001b[0m\u001b[1;33m,\u001b[0m\u001b[1;34m'%b %d, %Y'\u001b[0m\u001b[1;33m)\u001b[0m\u001b[1;33m.\u001b[0m\u001b[0mdate\u001b[0m\u001b[1;33m(\u001b[0m\u001b[1;33m)\u001b[0m \u001b[1;32mfor\u001b[0m \u001b[0md\u001b[0m \u001b[1;32min\u001b[0m \u001b[0mindice\u001b[0m\u001b[1;33m[\u001b[0m\u001b[1;34m'date'\u001b[0m\u001b[1;33m]\u001b[0m\u001b[1;33m]\u001b[0m\u001b[1;33m\u001b[0m\u001b[1;33m\u001b[0m\u001b[0m\n\u001b[0m\u001b[0;32m      5\u001b[0m \u001b[0mshortwave\u001b[0m\u001b[1;33m[\u001b[0m\u001b[1;34m'date'\u001b[0m\u001b[1;33m]\u001b[0m \u001b[1;33m=\u001b[0m \u001b[1;33m[\u001b[0m\u001b[0mdt\u001b[0m\u001b[1;33m.\u001b[0m\u001b[0mdatetime\u001b[0m\u001b[1;33m.\u001b[0m\u001b[0mstrptime\u001b[0m\u001b[1;33m(\u001b[0m\u001b[0md\u001b[0m\u001b[1;33m,\u001b[0m\u001b[1;34m'%b %d, %Y'\u001b[0m\u001b[1;33m)\u001b[0m\u001b[1;33m.\u001b[0m\u001b[0mdate\u001b[0m\u001b[1;33m(\u001b[0m\u001b[1;33m)\u001b[0m \u001b[1;32mfor\u001b[0m \u001b[0md\u001b[0m \u001b[1;32min\u001b[0m \u001b[0mshortwave\u001b[0m\u001b[1;33m[\u001b[0m\u001b[1;34m'date'\u001b[0m\u001b[1;33m]\u001b[0m\u001b[1;33m]\u001b[0m\u001b[1;33m\u001b[0m\u001b[1;33m\u001b[0m\u001b[0m\n",
      "\u001b[1;32m<ipython-input-39-015a2c09d8ea>\u001b[0m in \u001b[0;36m<listcomp>\u001b[1;34m(.0)\u001b[0m\n\u001b[0;32m      2\u001b[0m \u001b[0mmeteo_temp\u001b[0m\u001b[1;33m[\u001b[0m\u001b[1;34m'date'\u001b[0m\u001b[1;33m]\u001b[0m \u001b[1;33m=\u001b[0m \u001b[1;33m[\u001b[0m\u001b[0mdt\u001b[0m\u001b[1;33m.\u001b[0m\u001b[0mdatetime\u001b[0m\u001b[1;33m.\u001b[0m\u001b[0mstrptime\u001b[0m\u001b[1;33m(\u001b[0m\u001b[0md\u001b[0m\u001b[1;33m,\u001b[0m\u001b[1;34m'%b %d, %Y'\u001b[0m\u001b[1;33m)\u001b[0m\u001b[1;33m.\u001b[0m\u001b[0mdate\u001b[0m\u001b[1;33m(\u001b[0m\u001b[1;33m)\u001b[0m \u001b[1;32mfor\u001b[0m \u001b[0md\u001b[0m \u001b[1;32min\u001b[0m \u001b[0mmeteo_temp\u001b[0m\u001b[1;33m[\u001b[0m\u001b[1;34m'date'\u001b[0m\u001b[1;33m]\u001b[0m\u001b[1;33m]\u001b[0m\u001b[1;33m\u001b[0m\u001b[1;33m\u001b[0m\u001b[0m\n\u001b[0;32m      3\u001b[0m \u001b[0mmeteo_precip\u001b[0m\u001b[1;33m[\u001b[0m\u001b[1;34m'date'\u001b[0m\u001b[1;33m]\u001b[0m \u001b[1;33m=\u001b[0m \u001b[1;33m[\u001b[0m\u001b[0mdt\u001b[0m\u001b[1;33m.\u001b[0m\u001b[0mdatetime\u001b[0m\u001b[1;33m.\u001b[0m\u001b[0mstrptime\u001b[0m\u001b[1;33m(\u001b[0m\u001b[0md\u001b[0m\u001b[1;33m,\u001b[0m\u001b[1;34m'%b %d, %Y'\u001b[0m\u001b[1;33m)\u001b[0m\u001b[1;33m.\u001b[0m\u001b[0mdate\u001b[0m\u001b[1;33m(\u001b[0m\u001b[1;33m)\u001b[0m \u001b[1;32mfor\u001b[0m \u001b[0md\u001b[0m \u001b[1;32min\u001b[0m \u001b[0mmeteo_precip\u001b[0m\u001b[1;33m[\u001b[0m\u001b[1;34m'date'\u001b[0m\u001b[1;33m]\u001b[0m\u001b[1;33m]\u001b[0m\u001b[1;33m\u001b[0m\u001b[1;33m\u001b[0m\u001b[0m\n\u001b[1;32m----> 4\u001b[1;33m \u001b[0mindice\u001b[0m\u001b[1;33m[\u001b[0m\u001b[1;34m'date'\u001b[0m\u001b[1;33m]\u001b[0m \u001b[1;33m=\u001b[0m \u001b[1;33m[\u001b[0m\u001b[0mdt\u001b[0m\u001b[1;33m.\u001b[0m\u001b[0mdatetime\u001b[0m\u001b[1;33m.\u001b[0m\u001b[0mstrptime\u001b[0m\u001b[1;33m(\u001b[0m\u001b[0md\u001b[0m\u001b[1;33m,\u001b[0m\u001b[1;34m'%b %d, %Y'\u001b[0m\u001b[1;33m)\u001b[0m\u001b[1;33m.\u001b[0m\u001b[0mdate\u001b[0m\u001b[1;33m(\u001b[0m\u001b[1;33m)\u001b[0m \u001b[1;32mfor\u001b[0m \u001b[0md\u001b[0m \u001b[1;32min\u001b[0m \u001b[0mindice\u001b[0m\u001b[1;33m[\u001b[0m\u001b[1;34m'date'\u001b[0m\u001b[1;33m]\u001b[0m\u001b[1;33m]\u001b[0m\u001b[1;33m\u001b[0m\u001b[1;33m\u001b[0m\u001b[0m\n\u001b[0m\u001b[0;32m      5\u001b[0m \u001b[0mshortwave\u001b[0m\u001b[1;33m[\u001b[0m\u001b[1;34m'date'\u001b[0m\u001b[1;33m]\u001b[0m \u001b[1;33m=\u001b[0m \u001b[1;33m[\u001b[0m\u001b[0mdt\u001b[0m\u001b[1;33m.\u001b[0m\u001b[0mdatetime\u001b[0m\u001b[1;33m.\u001b[0m\u001b[0mstrptime\u001b[0m\u001b[1;33m(\u001b[0m\u001b[0md\u001b[0m\u001b[1;33m,\u001b[0m\u001b[1;34m'%b %d, %Y'\u001b[0m\u001b[1;33m)\u001b[0m\u001b[1;33m.\u001b[0m\u001b[0mdate\u001b[0m\u001b[1;33m(\u001b[0m\u001b[1;33m)\u001b[0m \u001b[1;32mfor\u001b[0m \u001b[0md\u001b[0m \u001b[1;32min\u001b[0m \u001b[0mshortwave\u001b[0m\u001b[1;33m[\u001b[0m\u001b[1;34m'date'\u001b[0m\u001b[1;33m]\u001b[0m\u001b[1;33m]\u001b[0m\u001b[1;33m\u001b[0m\u001b[1;33m\u001b[0m\u001b[0m\n",
      "\u001b[1;32m~\\AppData\\Local\\Programs\\Python\\Python39\\lib\\_strptime.py\u001b[0m in \u001b[0;36m_strptime_datetime\u001b[1;34m(cls, data_string, format)\u001b[0m\n\u001b[0;32m    566\u001b[0m     \"\"\"Return a class cls instance based on the input string and the\n\u001b[0;32m    567\u001b[0m     format string.\"\"\"\n\u001b[1;32m--> 568\u001b[1;33m     \u001b[0mtt\u001b[0m\u001b[1;33m,\u001b[0m \u001b[0mfraction\u001b[0m\u001b[1;33m,\u001b[0m \u001b[0mgmtoff_fraction\u001b[0m \u001b[1;33m=\u001b[0m \u001b[0m_strptime\u001b[0m\u001b[1;33m(\u001b[0m\u001b[0mdata_string\u001b[0m\u001b[1;33m,\u001b[0m \u001b[0mformat\u001b[0m\u001b[1;33m)\u001b[0m\u001b[1;33m\u001b[0m\u001b[1;33m\u001b[0m\u001b[0m\n\u001b[0m\u001b[0;32m    569\u001b[0m     \u001b[0mtzname\u001b[0m\u001b[1;33m,\u001b[0m \u001b[0mgmtoff\u001b[0m \u001b[1;33m=\u001b[0m \u001b[0mtt\u001b[0m\u001b[1;33m[\u001b[0m\u001b[1;33m-\u001b[0m\u001b[1;36m2\u001b[0m\u001b[1;33m:\u001b[0m\u001b[1;33m]\u001b[0m\u001b[1;33m\u001b[0m\u001b[1;33m\u001b[0m\u001b[0m\n\u001b[0;32m    570\u001b[0m     \u001b[0margs\u001b[0m \u001b[1;33m=\u001b[0m \u001b[0mtt\u001b[0m\u001b[1;33m[\u001b[0m\u001b[1;33m:\u001b[0m\u001b[1;36m6\u001b[0m\u001b[1;33m]\u001b[0m \u001b[1;33m+\u001b[0m \u001b[1;33m(\u001b[0m\u001b[0mfraction\u001b[0m\u001b[1;33m,\u001b[0m\u001b[1;33m)\u001b[0m\u001b[1;33m\u001b[0m\u001b[1;33m\u001b[0m\u001b[0m\n",
      "\u001b[1;32m~\\AppData\\Local\\Programs\\Python\\Python39\\lib\\_strptime.py\u001b[0m in \u001b[0;36m_strptime\u001b[1;34m(data_string, format)\u001b[0m\n\u001b[0;32m    347\u001b[0m     \u001b[0mfound\u001b[0m \u001b[1;33m=\u001b[0m \u001b[0mformat_regex\u001b[0m\u001b[1;33m.\u001b[0m\u001b[0mmatch\u001b[0m\u001b[1;33m(\u001b[0m\u001b[0mdata_string\u001b[0m\u001b[1;33m)\u001b[0m\u001b[1;33m\u001b[0m\u001b[1;33m\u001b[0m\u001b[0m\n\u001b[0;32m    348\u001b[0m     \u001b[1;32mif\u001b[0m \u001b[1;32mnot\u001b[0m \u001b[0mfound\u001b[0m\u001b[1;33m:\u001b[0m\u001b[1;33m\u001b[0m\u001b[1;33m\u001b[0m\u001b[0m\n\u001b[1;32m--> 349\u001b[1;33m         raise ValueError(\"time data %r does not match format %r\" %\n\u001b[0m\u001b[0;32m    350\u001b[0m                          (data_string, format))\n\u001b[0;32m    351\u001b[0m     \u001b[1;32mif\u001b[0m \u001b[0mlen\u001b[0m\u001b[1;33m(\u001b[0m\u001b[0mdata_string\u001b[0m\u001b[1;33m)\u001b[0m \u001b[1;33m!=\u001b[0m \u001b[0mfound\u001b[0m\u001b[1;33m.\u001b[0m\u001b[0mend\u001b[0m\u001b[1;33m(\u001b[0m\u001b[1;33m)\u001b[0m\u001b[1;33m:\u001b[0m\u001b[1;33m\u001b[0m\u001b[1;33m\u001b[0m\u001b[0m\n",
      "\u001b[1;31mValueError\u001b[0m: time data '8-Jan-18' does not match format '%b %d, %Y'"
     ]
    }
   ],
   "source": [
    "df['date'] = [dt.datetime.strptime(d,'%d-%b-%y').date().strftime(\"%b %d, %Y\") for d in df['date']]\n",
    "meteo_temp['date'] = [dt.datetime.strptime(d,'%d-%b-%y').date().strftime(\"%b %d, %Y\") for d in meteo_temp['date']]\n",
    "meteo_precip['date'] = [dt.datetime.strptime(d,'%d-%b-%y').date().strftime(\"%b %d, %Y\") for d in meteo_precip['date']]\n",
    "indice['date'] = [dt.datetime.strptime(d,'%d-%b-%y').date().strftime(\"%b %d, %Y\") for d in indice['date']]\n",
    "shortwave['date'] = [dt.datetime.strptime(d,'%d-%b-%y').date().strftime(\"%b %d, %Y\") for d in shortwave['date']]"
   ]
  },
  {
   "cell_type": "code",
   "execution_count": null,
   "id": "edcdd64f-df18-48ee-8521-b46418120399",
   "metadata": {},
   "outputs": [],
   "source": [
    "shortwave.date = shortwave['date']"
   ]
  },
  {
   "cell_type": "code",
   "execution_count": null,
   "id": "e2c21f56-e4f4-47f2-aa10-ef3597c8c4ed",
   "metadata": {},
   "outputs": [],
   "source": [
    "shortwave = shortwave.sort_values(by=\"date\")"
   ]
  },
  {
   "cell_type": "code",
   "execution_count": null,
   "id": "95257a74-5cac-4338-8da0-091d6557edb8",
   "metadata": {},
   "outputs": [],
   "source": [
    "shortwave_dates_col = [set_end_intevals(1, 16, d, d.month)  for d in list(shortwave.date)]\n",
    "shortwave[\"date_intervals\"] = shortwave_dates_col\n",
    "shortwave.head()"
   ]
  },
  {
   "cell_type": "code",
   "execution_count": null,
   "id": "d23096eb-49d7-47b7-af9f-3b73ddae42b2",
   "metadata": {},
   "outputs": [],
   "source": [
    "shortwave_years = [d.year for d in  list(shortwave.date)]\n",
    "shortwave[\"years\"] =shortwave_years"
   ]
  },
  {
   "cell_type": "code",
   "execution_count": null,
   "id": "251c7e0e-dc25-4c70-8af3-005496e22a66",
   "metadata": {},
   "outputs": [],
   "source": [
    "shortwave.head()"
   ]
  },
  {
   "cell_type": "code",
   "execution_count": null,
   "id": "b7c43da1-58c3-413f-ad05-7a0b79f107b1",
   "metadata": {},
   "outputs": [],
   "source": [
    "shortwave.shape"
   ]
  },
  {
   "cell_type": "code",
   "execution_count": null,
   "id": "256078d9-202d-4084-b526-7ceee0562b89",
   "metadata": {},
   "outputs": [],
   "source": [
    "shortwave.shortwaves=[str_to_float(num) for num in list(shortwave.shortwaves)]"
   ]
  },
  {
   "cell_type": "code",
   "execution_count": null,
   "id": "5f44778c-d101-4d3f-8b9d-3d8a95947d6e",
   "metadata": {},
   "outputs": [],
   "source": [
    "shortwave.head()"
   ]
  },
  {
   "cell_type": "code",
   "execution_count": null,
   "id": "abf3425c-5244-4b09-a606-d02600feccce",
   "metadata": {},
   "outputs": [],
   "source": [
    "grouped_shortwave = shortwave.groupby([\"date_intervals\"])[[\"shortwaves\"]].mean()\n",
    "grouped_shortwave = grouped_shortwave.reset_index()"
   ]
  },
  {
   "cell_type": "code",
   "execution_count": null,
   "id": "4293bfaf-b879-4e5d-9b90-44cfa3fc28c0",
   "metadata": {},
   "outputs": [],
   "source": [
    "grouped_shortwave.shape"
   ]
  },
  {
   "cell_type": "code",
   "execution_count": null,
   "id": "d4ba62f9-cf07-4a7b-b038-8d3fa2815f18",
   "metadata": {},
   "outputs": [],
   "source": [
    "intervals = list(grouped_shortwave[\"date_intervals\"])\n",
    "new_inter = []\n",
    "\n",
    "for d in intervals:\n",
    "   new_inter.append(rename_intervals(1, 16, d, d.month))"
   ]
  },
  {
   "cell_type": "code",
   "execution_count": null,
   "id": "081cc72c-0022-4df1-84ea-f715a3682160",
   "metadata": {},
   "outputs": [],
   "source": [
    "sns.set(rc={'figure.figsize':(20,6)})\n",
    "fig, ax = plt.subplots(sharey=True, sharex=True)\n",
    "x_pos = np.arange(len(new_inter))\n",
    "_ = ax.plot(list(grouped_shortwave[\"shortwaves\"]))\n",
    "ax.set_xticks(x_pos)\n",
    "rects = ax.set_xticklabels(x_pos)\n",
    "_ = ax.set_xticklabels(new_inter,  rotation = 80)\n",
    "plt.savefig('shortwave_halfmonth.png',dpi=250,bbox_inches = 'tight')"
   ]
  },
  {
   "cell_type": "code",
   "execution_count": null,
   "id": "e9dfac1e-ea86-433b-80e0-c35a618e3d5a",
   "metadata": {},
   "outputs": [],
   "source": [
    "df=df.set_index('date')"
   ]
  },
  {
   "cell_type": "code",
   "execution_count": null,
   "id": "ebc05ae9-61d4-401b-bb60-df3f48499ad6",
   "metadata": {},
   "outputs": [],
   "source": [
    "df.shape"
   ]
  },
  {
   "cell_type": "code",
   "execution_count": null,
   "id": "c7d13416-e67b-4055-b414-6bd760e9f2f5",
   "metadata": {},
   "outputs": [],
   "source": [
    "df.head(2)"
   ]
  },
  {
   "cell_type": "code",
   "execution_count": null,
   "id": "5328e725-4c3a-47e3-859c-c24b01453566",
   "metadata": {},
   "outputs": [],
   "source": [
    "plt.style.use(\"tableau-colorblind10\")\n",
    "print(plt.style.available)"
   ]
  },
  {
   "cell_type": "code",
   "execution_count": null,
   "id": "91479044-ef62-4b75-9c87-508ce8008736",
   "metadata": {},
   "outputs": [],
   "source": [
    "axe=df.plot()"
   ]
  },
  {
   "cell_type": "code",
   "execution_count": null,
   "id": "68fff88f-7020-40ed-824a-67e6b8ee08dc",
   "metadata": {},
   "outputs": [],
   "source": [
    "meteo.describe()"
   ]
  },
  {
   "cell_type": "code",
   "execution_count": null,
   "id": "c6dbe50d-f61c-4db9-8d8c-77c1fe858516",
   "metadata": {},
   "outputs": [],
   "source": [
    "meteo.info()"
   ]
  },
  {
   "cell_type": "code",
   "execution_count": null,
   "id": "96650390-b0b9-470a-bcf0-a68d2fada876",
   "metadata": {},
   "outputs": [],
   "source": [
    "# ------------- Plot the indexes ----------\n",
    "#Initialize plot and parameters\n",
    "sns.set(rc={'figure.figsize':(16,6)})\n",
    "#sns.set_context('paper')\n",
    "\n",
    "#Plot colors\n",
    "prec_color = 'cornflowerblue'\n",
    "#temp_color = 'fuchsia'\n",
    "short_color = 'red'"
   ]
  },
  {
   "cell_type": "code",
   "execution_count": null,
   "id": "bd3cd169-58a7-41b5-b315-0acf616f1603",
   "metadata": {},
   "outputs": [],
   "source": [
    "#Create the figure with a date x-axis\n",
    "plt.style.use(\"tableau-colorblind10\")\n",
    "fig,ax = plt.subplots(2,1, sharex=True)\n",
    "\n",
    "\n",
    "plt.gca().xaxis.set_major_formatter(mdates.DateFormatter('%Y_%b'))\n",
    "plt.gca().xaxis.set_major_locator(mdates.DayLocator(interval = 60))\n",
    "#ax.set_xlim(dt.date(2017,12,1),dt.date(2020,2,1))\n",
    "ax[1].set_xlim(df.index.min(),df.index.max())\n",
    "\n",
    "\n",
    "\n",
    "#Plot precipitation\n",
    "ax2 = ax[1].twinx()\n",
    "\n",
    "\n",
    "p_prec = ax2.bar(meteo_precip['date'],meteo_precip['precipitation'], width = 10, alpha = .75, color = prec_color,label = 'precipation(mm)')\n",
    "ax2.set_ylim(0,5)\n",
    "ax2.grid(False)\n",
    "ax2.set_ylabel('Monthly total precipitation (mm)',fontsize = 12)\n",
    "ax2.spines['right'].set_color(prec_color)\n",
    "ax2.tick_params(axis='y', colors = prec_color)\n",
    "ax2.yaxis.label.set_color(prec_color)\n",
    "\n",
    "#Plot temperature\n",
    "#p_temp = ax[1].plot(meteo_temp['date'],meteo_temp['temperature'],'-',color =temp_color,label = 'T (°C)')\n",
    "#ax2.spines['left'].set_color(temp_color)\n",
    "#ax[1].tick_params(axis='y',colors = temp_color)\n",
    "#ax[1].yaxis.label.set_color(temp_color)\n",
    "#ax[1].set_ylabel('Monthly mean temperature (°C)', fontsize = 12)\n",
    "#ax[1].yaxis.tick_right()\n",
    "\n",
    "#Plot shortwave\n",
    "p_short = ax[1].plot(grouped_shortwave['date_intervals'],grouped_shortwave['shortwaves'],'-',color =short_color,label = 'j/m2 (°C)')\n",
    "ax2.spines['left'].set_color(short_color)\n",
    "ax[1].tick_params(axis='y',colors = short_color)\n",
    "ax[1].yaxis.label.set_color(short_color)\n",
    "ax[1].set_ylabel('Monthly mean shortwave (°C)', fontsize = 12)\n",
    "#ax[1].yaxis.tick_right()\n",
    "\n",
    "\n",
    "\n",
    "#plot ARVI\n",
    "ax[0].set_ylabel('NDVI, NDWI, EVI and ARVI',fontsize=12)\n",
    "ax[0].set_title('ARVI, temperature and precipitations in Haiti for the period 2018-2020/half month time step',fontsize = 14)\n",
    "\n",
    "ax[0].plot(indice['date'],indice['ARVI'],linewidth = 2, color = 'orange', label ='ARVI')\n",
    "#ax.set_ylabel('ARVI')\n",
    "ax[0].legend(loc = 'upper right')\n",
    "\n",
    "\n",
    "ax[1].set_xlabel('Date',fontsize = 12)\n",
    "plt.savefig('short_prec_halfmonth.png',dpi=250,bbox_inches = 'tight')"
   ]
  },
  {
   "cell_type": "code",
   "execution_count": null,
   "id": "1268d541-ba1b-4f6e-9ef7-e7096fa5cec8",
   "metadata": {},
   "outputs": [],
   "source": [
    "#crosscorellation\n",
    "#fig1,ax1=plt.subplots(2, 4, figsize=(16,6), sharex= False, sharey= True )\n",
    "#fig1.tight_layout(pad=3.0)\n",
    "#fig1.suptitle(\"Correlation: Precipitation/Temperature versus indices\", fontsize = 14, y=1.05)\n",
    "\n",
    "#precipitation_list = list(meteo_precip[\"precipitation\"])\n",
    "temperature_list = list(meteo_temp[\"temperature\"])\n",
    "arvi_list = list(indice[\"ARVI\"])\n",
    "\n",
    "def lag_finder(temperature_list, arvi_list, sr):\n",
    "    n = len(temperature_list)\n",
    "\n",
    "    corr = signal.correlate(arvi_list, temperature_list, mode='same') / np.sqrt(signal.correlate(temperature_list, temperature_list, mode='same')[int(n/2)] * signal.correlate(arvi_list, arvi_list, mode='same')[int(n/2)])\n",
    "\n",
    "    delay_arr = np.linspace(-0.5*n/sr, 0.5*n/sr, n)\n",
    "    delay = delay_arr[np.argmax(corr)]\n",
    "    print('arvi_list is ' + str(delay) + ' behind temperature_list')\n",
    "\n",
    "    plt.figure()\n",
    "    plt.plot(delay_arr, corr)\n",
    "    plt.title('Lag: ' + str(np.round(delay, 3)) + 'month'\n",
    "    plt.xlabel('Lag')\n",
    "    plt.ylabel('Correlation coefficient')\n",
    "    plt.show()\n",
    "    \n",
    "# Sine sample with some noise and copy to y1 and y2 with a 1-second lag\n",
    "sr = 10\n",
    "y = np.linspace(0, 2*np.pi, sr)\n",
    "y = np.tile(np.sin(y), 5)\n",
    "y += np.random.normal(0, 5, y.shape)\n",
    "temperature_list = y[sr:4*sr]\n",
    "arvi_list = y[:3*sr]\n",
    "\n",
    "lag_finder(temperature_list, arvi_list, sr)\n",
    "plt.savefig('lagtemp_halfmonth.png',dpi=250,bbox_inches = 'tight')"
   ]
  },
  {
   "cell_type": "code",
   "execution_count": null,
   "id": "b3ab93be-8e53-41d6-9382-a407067f1abf",
   "metadata": {},
   "outputs": [],
   "source": [
    "precipitation_list = list(meteo_precip[\"precipitation\"])\n",
    "#temperature_list = list(meteo_temp[\"temperature\"])\n",
    "arvi_list = list(indice[\"ARVI\"])\n",
    "\n",
    "def lag_finder(precipitation_list, arvi_list, sr):\n",
    "    n = len(precipitation_list)\n",
    "\n",
    "    corr = signal.correlate(arvi_list, precipitation_list, mode='same') / np.sqrt(signal.correlate(precipitation_list, precipitation_list, mode='same')[int(n/2)] * signal.correlate(arvi_list, arvi_list, mode='same')[int(n/2)])\n",
    "\n",
    "    delay_arr = np.linspace(-0.5*n/sr, 0.5*n/sr, n)\n",
    "    delay = delay_arr[np.argmax(corr)]\n",
    "    print('arvi_list is ' + str(delay) + ' behind precipitation_list')\n",
    "\n",
    "    plt.figure()\n",
    "    plt.plot(delay_arr, corr)\n",
    "    plt.title('Lag: ' + str(np.round(delay, 3)) + 'month')\n",
    "    plt.xlabel('Lag')\n",
    "    plt.ylabel('Correlation coefficient')\n",
    "    plt.show()\n",
    "    \n",
    "# Sine sample with some noise and copy to y1 and y2 with a 1-second lag\n",
    "sr = 10\n",
    "y = np.linspace(0, 2*np.pi, sr)\n",
    "y = np.tile(np.sin(y), 5)\n",
    "y += np.random.normal(0, 5, y.shape)\n",
    "precipitation_list = y[sr:4*sr]\n",
    "arvi_list = y[:3*sr]\n",
    "\n",
    "lag_finder(precipitation_list, arvi_list, sr)\n",
    "plt.savefig('lagprec_halfmonth.png',dpi=250,bbox_inches = 'tight')"
   ]
  },
  {
   "cell_type": "code",
   "execution_count": null,
   "id": "d21822b5-56dd-4ce5-bc7d-3fba427aa71b",
   "metadata": {},
   "outputs": [],
   "source": [
    "#precipitation_list = list(meteo_precip[\"precipitation\"])\n",
    "#temperature_list = list(meteo_temp[\"temperature\"])\n",
    "shortwave_list = list(grouped_shortwave[\"shortwaves\"]) \n",
    "arvi_list = list(indice[\"ARVI\"])\n",
    "\n",
    "def lag_finder(shortwave_list, arvi_list, sr):\n",
    "    n = len(shortwave_list)\n",
    "\n",
    "    corr = signal.correlate(arvi_list, shortwave_list, mode='same') / np.sqrt(signal.correlate(shortwave_list, shortwave_list, mode='same')[int(n/2)] * signal.correlate(arvi_list, arvi_list, mode='same')[int(n/2)])\n",
    "\n",
    "    delay_arr = np.linspace(-0.5*n/sr, 0.5*n/sr, n)\n",
    "    delay = delay_arr[np.argmax(corr)]\n",
    "    print('arvi_list is ' + str(delay) + ' behind shortwave_list')\n",
    "\n",
    "    plt.figure()\n",
    "    plt.plot(delay_arr, corr)\n",
    "    plt.title('Lag: ' + str(np.round(delay, 3)) + 'month')\n",
    "    plt.xlabel('Lag')\n",
    "    plt.ylabel('Correlation coefficient')\n",
    "    plt.show()\n",
    "   \n",
    "# Sine sample with some noise and copy to y1 and y2 with a 1-second lag\n",
    "sr = 60\n",
    "y = np.linspace(0, 2*np.pi, sr)\n",
    "y = np.tile(np.sin(y), 5)\n",
    "y += np.random.normal(0, 5, y.shape)\n",
    "shortwave_list = y[sr:4*sr]\n",
    "arvi_list = y[:3*sr]\n",
    "\n",
    "lag_finder(shortwave_list, arvi_list, sr)\n",
    "plt.savefig('lagshort_halfmonth.png',dpi=250,bbox_inches = 'tight')"
   ]
  },
  {
   "cell_type": "code",
   "execution_count": null,
   "id": "4a606ced-df6f-4300-af2b-ea7ed121be0c",
   "metadata": {},
   "outputs": [],
   "source": [
    "\"\"\"# Partial correlation\n",
    "ARVI=[]\n",
    "meteo_precip=[]\n",
    "meteo_temp=[]\n",
    "grouped_shortwave=[] \"\"\""
   ]
  },
  {
   "cell_type": "code",
   "execution_count": null,
   "id": "85f62a63-92e4-4f39-a748-388803bea57f",
   "metadata": {},
   "outputs": [],
   "source": []
  },
  {
   "cell_type": "code",
   "execution_count": null,
   "id": "855ef70f-83d8-4c6e-a296-0ab1f455e30a",
   "metadata": {},
   "outputs": [],
   "source": [
    "\n",
    "\"\"\"\n",
    "shortwave_list = list(grouped_shortwave[\"shortwaves\"]) \n",
    "arvi_list = list(indice[\"ARVI\"])\n",
    "\n",
    "def plot_xcorr(shortwave_list, arvi_list): \n",
    "    \"Plot cross-correlation (full) between two signals.\"\n",
    "    N = max(len(shortwave_list), len(arvi_list)) \n",
    "    n = min(len(shortwave_list), len(arvi_list)) \n",
    "\n",
    "    if N == len(arvi_list): \n",
    "        lags = np.arange(-N + 1, n) \n",
    "    else: \n",
    "        lags = np.arange(-n + 1, N) \n",
    "    c = correlate(shortwave_list / std(shortwave_list), arvi_list / std(arvi_list), 'full') \n",
    "\n",
    "    plt.plot(lags, c / n) \n",
    "    plt.show() \n",
    "    plot_xcorr(shortwave_list, arvi_list)\n",
    "    plt.savefig('lagshort_halfmonth1.png',dpi=250,bbox_inches = 'tight')"
   ]
  },
  {
   "cell_type": "code",
   "execution_count": null,
   "id": "566719ef-9343-46c6-83d8-84e06fac17d6",
   "metadata": {},
   "outputs": [],
   "source": [
    "shortwave_list = list(grouped_shortwave[\"shortwaves\"])\n",
    "arvi_list =list(indice[\"ARVI\"])\n",
    "\n",
    "def plot_xcorr(shortwave_l, arvi_l): \n",
    "    \"Plot cross-correlation (full) between two signals.\"\n",
    "    N = max(len(shortwave_l), len(arvi_l)) \n",
    "    n = min(len(shortwave_l), len(arvi_l)) \n",
    "\n",
    "    if N == len(shortwave_l): \n",
    "        lags = np.arange(-N + 1, n) \n",
    "    else: \n",
    "        lags = np.arange(-n + 1, N) \n",
    "    c = correlate(shortwave_l / np.std(shortwave_l), arvi_l / np.std(arvi_l), 'same') \n",
    "\n",
    "    plt.plot(lags, c / n) \n",
    "    plt.show() \n",
    "    plot_xcorr(shortwave_l, arvi_l)\n",
    "    plt.savefig('lagshort_halfmonth1.png',dpi=250,bbox_inches = 'tight')\n",
    "\n",
    "    \n",
    "plot_xcorr(shortwave_list, arvi_list) #Here you excecute it"
   ]
  },
  {
   "cell_type": "code",
   "execution_count": null,
   "id": "9886275f-ef9c-4fde-ac08-b54535500ac1",
   "metadata": {},
   "outputs": [],
   "source": [
    "len(shortwave_list)"
   ]
  },
  {
   "cell_type": "code",
   "execution_count": null,
   "id": "a7048fb7-0691-4537-9532-5bc118d6723b",
   "metadata": {},
   "outputs": [],
   "source": [
    "len(arvi_list)"
   ]
  },
  {
   "cell_type": "code",
   "execution_count": 16,
   "id": "ae6da7a2-fb93-4fe4-8860-0f283b0a7e53",
   "metadata": {},
   "outputs": [
    {
     "name": "stdout",
     "output_type": "stream",
     "text": [
      "2018-01-08\n"
     ]
    }
   ],
   "source": [
    "print(dt.datetime.strptime('8-Jan-18', '%d-%b-%y').date())"
   ]
  },
  {
   "cell_type": "code",
   "execution_count": null,
   "id": "15e9b119-7b96-46a1-aa89-e010c5af188d",
   "metadata": {},
   "outputs": [],
   "source": []
  }
 ],
 "metadata": {
  "kernelspec": {
   "display_name": "Python 3",
   "language": "python",
   "name": "python3"
  },
  "language_info": {
   "codemirror_mode": {
    "name": "ipython",
    "version": 3
   },
   "file_extension": ".py",
   "mimetype": "text/x-python",
   "name": "python",
   "nbconvert_exporter": "python",
   "pygments_lexer": "ipython3",
   "version": "3.8.3"
  }
 },
 "nbformat": 4,
 "nbformat_minor": 5
}
