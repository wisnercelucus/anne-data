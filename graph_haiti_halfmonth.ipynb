{
 "cells": [
  {
   "cell_type": "code",
   "execution_count": 1,
   "id": "eee5f13c-c711-401d-b2a0-399e523ea52f",
   "metadata": {},
   "outputs": [],
   "source": [
    "import numpy as np\n",
    "import pandas as pd\n",
    "import seaborn as sns\n",
    "import matplotlib.dates as mdates\n",
    "import datetime as dt\n",
    "import matplotlib.pyplot as plt\n",
    "from scipy.stats import pearsonr as pr\n",
    "from scipy import signal"
   ]
  },
  {
   "cell_type": "code",
   "execution_count": 2,
   "id": "5d83144c-0ebc-4f8a-bd6a-df95ae706a27",
   "metadata": {},
   "outputs": [],
   "source": [
    "dataset_path = \"./dataset/inputs/\"\n",
    "\n",
    "indice = pd.read_csv(dataset_path + \"hm_ARVI.csv\")\n",
    "meteo = pd.read_csv(dataset_path + \"hm_tempPrecip.csv\")"
   ]
  },
  {
   "cell_type": "code",
   "execution_count": 3,
   "id": "f6dc8717-34cd-4a36-86bb-35390bfce178",
   "metadata": {},
   "outputs": [],
   "source": [
    "import os\n",
    "import sys\n",
    "sys.path.append(os.path.join(os.path.dirname(\"__FILE__\"), \"utils\"))"
   ]
  },
  {
   "cell_type": "code",
   "execution_count": 4,
   "id": "f47eddcb-d3b0-44cb-acb8-5ed44aaad839",
   "metadata": {},
   "outputs": [],
   "source": [
    "from functions import *"
   ]
  },
  {
   "cell_type": "code",
   "execution_count": 5,
   "id": "c64708e1-6d51-4249-8154-ed5b942a8b57",
   "metadata": {},
   "outputs": [
    {
     "data": {
      "text/html": [
       "<div>\n",
       "<style scoped>\n",
       "    .dataframe tbody tr th:only-of-type {\n",
       "        vertical-align: middle;\n",
       "    }\n",
       "\n",
       "    .dataframe tbody tr th {\n",
       "        vertical-align: top;\n",
       "    }\n",
       "\n",
       "    .dataframe thead th {\n",
       "        text-align: right;\n",
       "    }\n",
       "</style>\n",
       "<table border=\"1\" class=\"dataframe\">\n",
       "  <thead>\n",
       "    <tr style=\"text-align: right;\">\n",
       "      <th></th>\n",
       "      <th>system:time_start</th>\n",
       "      <th>ARVI</th>\n",
       "    </tr>\n",
       "  </thead>\n",
       "  <tbody>\n",
       "    <tr>\n",
       "      <th>0</th>\n",
       "      <td>Jan 8, 2018</td>\n",
       "      <td>1.317</td>\n",
       "    </tr>\n",
       "    <tr>\n",
       "      <th>1</th>\n",
       "      <td>Jan 9, 2018</td>\n",
       "      <td>0.954</td>\n",
       "    </tr>\n",
       "    <tr>\n",
       "      <th>2</th>\n",
       "      <td>Feb 8, 2018</td>\n",
       "      <td>0.995</td>\n",
       "    </tr>\n",
       "    <tr>\n",
       "      <th>3</th>\n",
       "      <td>Feb 9, 2018</td>\n",
       "      <td>0.859</td>\n",
       "    </tr>\n",
       "    <tr>\n",
       "      <th>4</th>\n",
       "      <td>Mar 8, 2018</td>\n",
       "      <td>0.941</td>\n",
       "    </tr>\n",
       "  </tbody>\n",
       "</table>\n",
       "</div>"
      ],
      "text/plain": [
       "  system:time_start   ARVI\n",
       "0       Jan 8, 2018  1.317\n",
       "1       Jan 9, 2018  0.954\n",
       "2       Feb 8, 2018  0.995\n",
       "3       Feb 9, 2018  0.859\n",
       "4       Mar 8, 2018  0.941"
      ]
     },
     "execution_count": 5,
     "metadata": {},
     "output_type": "execute_result"
    }
   ],
   "source": [
    "indice.head()"
   ]
  },
  {
   "cell_type": "code",
   "execution_count": 6,
   "id": "4062a839-6515-4569-beeb-712225bcc1c6",
   "metadata": {},
   "outputs": [
    {
     "data": {
      "text/html": [
       "<div>\n",
       "<style scoped>\n",
       "    .dataframe tbody tr th:only-of-type {\n",
       "        vertical-align: middle;\n",
       "    }\n",
       "\n",
       "    .dataframe tbody tr th {\n",
       "        vertical-align: top;\n",
       "    }\n",
       "\n",
       "    .dataframe thead th {\n",
       "        text-align: right;\n",
       "    }\n",
       "</style>\n",
       "<table border=\"1\" class=\"dataframe\">\n",
       "  <thead>\n",
       "    <tr style=\"text-align: right;\">\n",
       "      <th></th>\n",
       "      <th>system:time_start</th>\n",
       "      <th>mean_2m_air_temperature</th>\n",
       "      <th>total_precipitation</th>\n",
       "    </tr>\n",
       "  </thead>\n",
       "  <tbody>\n",
       "    <tr>\n",
       "      <th>0</th>\n",
       "      <td>Jan 8, 2018</td>\n",
       "      <td>25.562</td>\n",
       "      <td>NaN</td>\n",
       "    </tr>\n",
       "    <tr>\n",
       "      <th>1</th>\n",
       "      <td>Jan 8, 2018</td>\n",
       "      <td>NaN</td>\n",
       "      <td>1.96</td>\n",
       "    </tr>\n",
       "    <tr>\n",
       "      <th>2</th>\n",
       "      <td>Jan 9, 2018</td>\n",
       "      <td>25.885</td>\n",
       "      <td>NaN</td>\n",
       "    </tr>\n",
       "    <tr>\n",
       "      <th>3</th>\n",
       "      <td>Jan 9, 2018</td>\n",
       "      <td>NaN</td>\n",
       "      <td>0.42</td>\n",
       "    </tr>\n",
       "    <tr>\n",
       "      <th>4</th>\n",
       "      <td>Feb 8, 2018</td>\n",
       "      <td>25.710</td>\n",
       "      <td>NaN</td>\n",
       "    </tr>\n",
       "  </tbody>\n",
       "</table>\n",
       "</div>"
      ],
      "text/plain": [
       "  system:time_start  mean_2m_air_temperature  total_precipitation\n",
       "0       Jan 8, 2018                   25.562                  NaN\n",
       "1       Jan 8, 2018                      NaN                 1.96\n",
       "2       Jan 9, 2018                   25.885                  NaN\n",
       "3       Jan 9, 2018                      NaN                 0.42\n",
       "4       Feb 8, 2018                   25.710                  NaN"
      ]
     },
     "execution_count": 6,
     "metadata": {},
     "output_type": "execute_result"
    }
   ],
   "source": [
    "meteo.head()"
   ]
  },
  {
   "cell_type": "code",
   "execution_count": 7,
   "id": "ca1ab915-f8ba-48b7-8208-75b64a5fcb0c",
   "metadata": {},
   "outputs": [
    {
     "data": {
      "text/html": [
       "<div>\n",
       "<style scoped>\n",
       "    .dataframe tbody tr th:only-of-type {\n",
       "        vertical-align: middle;\n",
       "    }\n",
       "\n",
       "    .dataframe tbody tr th {\n",
       "        vertical-align: top;\n",
       "    }\n",
       "\n",
       "    .dataframe thead th {\n",
       "        text-align: right;\n",
       "    }\n",
       "</style>\n",
       "<table border=\"1\" class=\"dataframe\">\n",
       "  <thead>\n",
       "    <tr style=\"text-align: right;\">\n",
       "      <th></th>\n",
       "      <th>system:time_start</th>\n",
       "      <th>ARVI</th>\n",
       "    </tr>\n",
       "  </thead>\n",
       "  <tbody>\n",
       "    <tr>\n",
       "      <th>56</th>\n",
       "      <td>May 8, 2020</td>\n",
       "      <td>0.507</td>\n",
       "    </tr>\n",
       "    <tr>\n",
       "      <th>57</th>\n",
       "      <td>May 9, 2020</td>\n",
       "      <td>0.593</td>\n",
       "    </tr>\n",
       "    <tr>\n",
       "      <th>58</th>\n",
       "      <td>Jun 8, 2020</td>\n",
       "      <td>0.572</td>\n",
       "    </tr>\n",
       "    <tr>\n",
       "      <th>59</th>\n",
       "      <td>Jun 9, 2020</td>\n",
       "      <td>0.613</td>\n",
       "    </tr>\n",
       "    <tr>\n",
       "      <th>60</th>\n",
       "      <td>Jul 8, 2020</td>\n",
       "      <td>0.573</td>\n",
       "    </tr>\n",
       "  </tbody>\n",
       "</table>\n",
       "</div>"
      ],
      "text/plain": [
       "   system:time_start   ARVI\n",
       "56       May 8, 2020  0.507\n",
       "57       May 9, 2020  0.593\n",
       "58       Jun 8, 2020  0.572\n",
       "59       Jun 9, 2020  0.613\n",
       "60       Jul 8, 2020  0.573"
      ]
     },
     "execution_count": 7,
     "metadata": {},
     "output_type": "execute_result"
    }
   ],
   "source": [
    "indice.tail()"
   ]
  },
  {
   "cell_type": "code",
   "execution_count": 8,
   "id": "aee59fc6-53c7-49a2-914f-75543147f67b",
   "metadata": {},
   "outputs": [
    {
     "data": {
      "text/html": [
       "<div>\n",
       "<style scoped>\n",
       "    .dataframe tbody tr th:only-of-type {\n",
       "        vertical-align: middle;\n",
       "    }\n",
       "\n",
       "    .dataframe tbody tr th {\n",
       "        vertical-align: top;\n",
       "    }\n",
       "\n",
       "    .dataframe thead th {\n",
       "        text-align: right;\n",
       "    }\n",
       "</style>\n",
       "<table border=\"1\" class=\"dataframe\">\n",
       "  <thead>\n",
       "    <tr style=\"text-align: right;\">\n",
       "      <th></th>\n",
       "      <th>system:time_start</th>\n",
       "      <th>mean_2m_air_temperature</th>\n",
       "      <th>total_precipitation</th>\n",
       "    </tr>\n",
       "  </thead>\n",
       "  <tbody>\n",
       "    <tr>\n",
       "      <th>117</th>\n",
       "      <td>Jun 8, 2020</td>\n",
       "      <td>NaN</td>\n",
       "      <td>0.636</td>\n",
       "    </tr>\n",
       "    <tr>\n",
       "      <th>118</th>\n",
       "      <td>Jun 9, 2020</td>\n",
       "      <td>27.808</td>\n",
       "      <td>NaN</td>\n",
       "    </tr>\n",
       "    <tr>\n",
       "      <th>119</th>\n",
       "      <td>Jun 9, 2020</td>\n",
       "      <td>NaN</td>\n",
       "      <td>0.506</td>\n",
       "    </tr>\n",
       "    <tr>\n",
       "      <th>120</th>\n",
       "      <td>Jul 8, 2020</td>\n",
       "      <td>28.356</td>\n",
       "      <td>NaN</td>\n",
       "    </tr>\n",
       "    <tr>\n",
       "      <th>121</th>\n",
       "      <td>Jul 8, 2020</td>\n",
       "      <td>NaN</td>\n",
       "      <td>0.246</td>\n",
       "    </tr>\n",
       "  </tbody>\n",
       "</table>\n",
       "</div>"
      ],
      "text/plain": [
       "    system:time_start  mean_2m_air_temperature  total_precipitation\n",
       "117       Jun 8, 2020                      NaN                0.636\n",
       "118       Jun 9, 2020                   27.808                  NaN\n",
       "119       Jun 9, 2020                      NaN                0.506\n",
       "120       Jul 8, 2020                   28.356                  NaN\n",
       "121       Jul 8, 2020                      NaN                0.246"
      ]
     },
     "execution_count": 8,
     "metadata": {},
     "output_type": "execute_result"
    }
   ],
   "source": [
    "meteo.tail()"
   ]
  },
  {
   "cell_type": "code",
   "execution_count": 9,
   "id": "d6c7c83e-5775-4842-9378-edae769c9dfc",
   "metadata": {},
   "outputs": [],
   "source": [
    "meteo.columns = ['date','temperature', 'precipitation']"
   ]
  },
  {
   "cell_type": "code",
   "execution_count": 10,
   "id": "e05bedd6-ad78-4e2f-8de2-5c70514dec85",
   "metadata": {},
   "outputs": [],
   "source": [
    "indice.columns = ['date','ARVI']\n",
    "#indice['date'] = [dt.datetime.strptime(d,'%B %d, %Y').date() for d in indice['date']]"
   ]
  },
  {
   "cell_type": "code",
   "execution_count": 11,
   "id": "8616576d-d75b-476d-92b8-8bb1a1515b8e",
   "metadata": {},
   "outputs": [],
   "source": [
    "indice_df= indice.copy()"
   ]
  },
  {
   "cell_type": "code",
   "execution_count": 12,
   "id": "dd2f30fb-cd06-45e2-84d6-3737b4fd943c",
   "metadata": {},
   "outputs": [],
   "source": [
    "indice_df=indice_df.set_index('date')"
   ]
  },
  {
   "cell_type": "code",
   "execution_count": 13,
   "id": "6c42cc3b-c58c-4fab-af20-7405896e8f8b",
   "metadata": {},
   "outputs": [
    {
     "data": {
      "text/html": [
       "<div>\n",
       "<style scoped>\n",
       "    .dataframe tbody tr th:only-of-type {\n",
       "        vertical-align: middle;\n",
       "    }\n",
       "\n",
       "    .dataframe tbody tr th {\n",
       "        vertical-align: top;\n",
       "    }\n",
       "\n",
       "    .dataframe thead th {\n",
       "        text-align: right;\n",
       "    }\n",
       "</style>\n",
       "<table border=\"1\" class=\"dataframe\">\n",
       "  <thead>\n",
       "    <tr style=\"text-align: right;\">\n",
       "      <th></th>\n",
       "      <th>date</th>\n",
       "      <th>ARVI</th>\n",
       "    </tr>\n",
       "  </thead>\n",
       "  <tbody>\n",
       "    <tr>\n",
       "      <th>0</th>\n",
       "      <td>Jan 8, 2018</td>\n",
       "      <td>1.317</td>\n",
       "    </tr>\n",
       "    <tr>\n",
       "      <th>1</th>\n",
       "      <td>Jan 9, 2018</td>\n",
       "      <td>0.954</td>\n",
       "    </tr>\n",
       "    <tr>\n",
       "      <th>2</th>\n",
       "      <td>Feb 8, 2018</td>\n",
       "      <td>0.995</td>\n",
       "    </tr>\n",
       "    <tr>\n",
       "      <th>3</th>\n",
       "      <td>Feb 9, 2018</td>\n",
       "      <td>0.859</td>\n",
       "    </tr>\n",
       "    <tr>\n",
       "      <th>4</th>\n",
       "      <td>Mar 8, 2018</td>\n",
       "      <td>0.941</td>\n",
       "    </tr>\n",
       "  </tbody>\n",
       "</table>\n",
       "</div>"
      ],
      "text/plain": [
       "          date   ARVI\n",
       "0  Jan 8, 2018  1.317\n",
       "1  Jan 9, 2018  0.954\n",
       "2  Feb 8, 2018  0.995\n",
       "3  Feb 9, 2018  0.859\n",
       "4  Mar 8, 2018  0.941"
      ]
     },
     "execution_count": 13,
     "metadata": {},
     "output_type": "execute_result"
    }
   ],
   "source": [
    "indice.head()"
   ]
  },
  {
   "cell_type": "code",
   "execution_count": 14,
   "id": "2641a438-ed54-4d7c-9fb5-b7ed188b340f",
   "metadata": {},
   "outputs": [
    {
     "data": {
      "text/html": [
       "<div>\n",
       "<style scoped>\n",
       "    .dataframe tbody tr th:only-of-type {\n",
       "        vertical-align: middle;\n",
       "    }\n",
       "\n",
       "    .dataframe tbody tr th {\n",
       "        vertical-align: top;\n",
       "    }\n",
       "\n",
       "    .dataframe thead th {\n",
       "        text-align: right;\n",
       "    }\n",
       "</style>\n",
       "<table border=\"1\" class=\"dataframe\">\n",
       "  <thead>\n",
       "    <tr style=\"text-align: right;\">\n",
       "      <th></th>\n",
       "      <th>date</th>\n",
       "      <th>temperature</th>\n",
       "      <th>precipitation</th>\n",
       "    </tr>\n",
       "  </thead>\n",
       "  <tbody>\n",
       "    <tr>\n",
       "      <th>0</th>\n",
       "      <td>Jan 8, 2018</td>\n",
       "      <td>25.562</td>\n",
       "      <td>NaN</td>\n",
       "    </tr>\n",
       "    <tr>\n",
       "      <th>1</th>\n",
       "      <td>Jan 8, 2018</td>\n",
       "      <td>NaN</td>\n",
       "      <td>1.96</td>\n",
       "    </tr>\n",
       "  </tbody>\n",
       "</table>\n",
       "</div>"
      ],
      "text/plain": [
       "          date  temperature  precipitation\n",
       "0  Jan 8, 2018       25.562            NaN\n",
       "1  Jan 8, 2018          NaN           1.96"
      ]
     },
     "execution_count": 14,
     "metadata": {},
     "output_type": "execute_result"
    }
   ],
   "source": [
    "meteo.head(2)"
   ]
  },
  {
   "cell_type": "code",
   "execution_count": 15,
   "id": "51d2131c-e555-448c-8d2a-c68be8ae3a3c",
   "metadata": {},
   "outputs": [
    {
     "data": {
      "text/plain": [
       "(122, 3)"
      ]
     },
     "execution_count": 15,
     "metadata": {},
     "output_type": "execute_result"
    }
   ],
   "source": [
    "meteo.shape"
   ]
  },
  {
   "cell_type": "code",
   "execution_count": 16,
   "id": "3ed29103-bd6d-4cef-aace-ce6c87269546",
   "metadata": {},
   "outputs": [],
   "source": [
    "meteo_temp= meteo[[\"date\", \"temperature\"]]"
   ]
  },
  {
   "cell_type": "code",
   "execution_count": 17,
   "id": "bf3ee158-3491-4f03-a837-8df66953c5a4",
   "metadata": {},
   "outputs": [
    {
     "data": {
      "text/plain": [
       "(122, 2)"
      ]
     },
     "execution_count": 17,
     "metadata": {},
     "output_type": "execute_result"
    }
   ],
   "source": [
    "meteo_temp.shape"
   ]
  },
  {
   "cell_type": "code",
   "execution_count": 18,
   "id": "ba67d311-7d1b-4792-a128-1c5cd589c3b7",
   "metadata": {},
   "outputs": [],
   "source": [
    "meteo_temp=meteo_temp.dropna()"
   ]
  },
  {
   "cell_type": "code",
   "execution_count": 19,
   "id": "bddca29f-d8e4-47a7-a4bc-964504bd1b4a",
   "metadata": {},
   "outputs": [
    {
     "data": {
      "text/plain": [
       "(61, 2)"
      ]
     },
     "execution_count": 19,
     "metadata": {},
     "output_type": "execute_result"
    }
   ],
   "source": [
    "meteo_temp.shape"
   ]
  },
  {
   "cell_type": "code",
   "execution_count": 20,
   "id": "120f52d9-429d-4a75-ab7e-fa25ac813d89",
   "metadata": {},
   "outputs": [],
   "source": [
    "meteo_precip=meteo[[\"date\", \"precipitation\"]]"
   ]
  },
  {
   "cell_type": "code",
   "execution_count": 21,
   "id": "e35926ac-f042-400d-8e2b-f3af853427b4",
   "metadata": {},
   "outputs": [
    {
     "data": {
      "text/plain": [
       "(122, 2)"
      ]
     },
     "execution_count": 21,
     "metadata": {},
     "output_type": "execute_result"
    }
   ],
   "source": [
    "meteo_precip.shape"
   ]
  },
  {
   "cell_type": "code",
   "execution_count": 22,
   "id": "5c871a6e-a44b-48d5-992c-00b200b7053c",
   "metadata": {},
   "outputs": [
    {
     "data": {
      "text/html": [
       "<div>\n",
       "<style scoped>\n",
       "    .dataframe tbody tr th:only-of-type {\n",
       "        vertical-align: middle;\n",
       "    }\n",
       "\n",
       "    .dataframe tbody tr th {\n",
       "        vertical-align: top;\n",
       "    }\n",
       "\n",
       "    .dataframe thead th {\n",
       "        text-align: right;\n",
       "    }\n",
       "</style>\n",
       "<table border=\"1\" class=\"dataframe\">\n",
       "  <thead>\n",
       "    <tr style=\"text-align: right;\">\n",
       "      <th></th>\n",
       "      <th>date</th>\n",
       "      <th>precipitation</th>\n",
       "    </tr>\n",
       "  </thead>\n",
       "  <tbody>\n",
       "    <tr>\n",
       "      <th>0</th>\n",
       "      <td>Jan 8, 2018</td>\n",
       "      <td>NaN</td>\n",
       "    </tr>\n",
       "    <tr>\n",
       "      <th>1</th>\n",
       "      <td>Jan 8, 2018</td>\n",
       "      <td>1.96</td>\n",
       "    </tr>\n",
       "    <tr>\n",
       "      <th>2</th>\n",
       "      <td>Jan 9, 2018</td>\n",
       "      <td>NaN</td>\n",
       "    </tr>\n",
       "    <tr>\n",
       "      <th>3</th>\n",
       "      <td>Jan 9, 2018</td>\n",
       "      <td>0.42</td>\n",
       "    </tr>\n",
       "    <tr>\n",
       "      <th>4</th>\n",
       "      <td>Feb 8, 2018</td>\n",
       "      <td>NaN</td>\n",
       "    </tr>\n",
       "  </tbody>\n",
       "</table>\n",
       "</div>"
      ],
      "text/plain": [
       "          date  precipitation\n",
       "0  Jan 8, 2018            NaN\n",
       "1  Jan 8, 2018           1.96\n",
       "2  Jan 9, 2018            NaN\n",
       "3  Jan 9, 2018           0.42\n",
       "4  Feb 8, 2018            NaN"
      ]
     },
     "execution_count": 22,
     "metadata": {},
     "output_type": "execute_result"
    }
   ],
   "source": [
    "meteo_precip.head()"
   ]
  },
  {
   "cell_type": "code",
   "execution_count": 23,
   "id": "98932b80-288d-4225-b20c-91bec0baabf3",
   "metadata": {},
   "outputs": [],
   "source": [
    "meteo_precip = meteo_precip.dropna()"
   ]
  },
  {
   "cell_type": "code",
   "execution_count": 24,
   "id": "19d7cd60-c336-4311-a080-cacab5877b0e",
   "metadata": {},
   "outputs": [
    {
     "data": {
      "text/plain": [
       "(61, 2)"
      ]
     },
     "execution_count": 24,
     "metadata": {},
     "output_type": "execute_result"
    }
   ],
   "source": [
    "meteo_precip.shape"
   ]
  },
  {
   "cell_type": "code",
   "execution_count": 25,
   "id": "cbbdd571-f4f9-4f3a-89fd-8352c111d1d1",
   "metadata": {},
   "outputs": [],
   "source": [
    "date1= list(meteo_temp['date'])"
   ]
  },
  {
   "cell_type": "code",
   "execution_count": 26,
   "id": "0b91072f-e778-4b34-82f1-a1173d679273",
   "metadata": {},
   "outputs": [],
   "source": [
    "date2= list(meteo_precip['date'])"
   ]
  },
  {
   "cell_type": "code",
   "execution_count": 27,
   "id": "2647b385-7ca5-4763-8fea-eb02b7174d5b",
   "metadata": {},
   "outputs": [],
   "source": [
    "for i in range(len(date1)):\n",
    "    assert date1[i]==date2[i]"
   ]
  },
  {
   "cell_type": "code",
   "execution_count": 28,
   "id": "1923709b-2be6-4092-9d9b-8914d171d542",
   "metadata": {},
   "outputs": [],
   "source": [
    "df=meteo_temp.merge(meteo_precip)"
   ]
  },
  {
   "cell_type": "code",
   "execution_count": 29,
   "id": "ec45f9c6-f236-4060-9887-7d671a252254",
   "metadata": {},
   "outputs": [],
   "source": [
    "df['date'] = [dt.datetime.strptime(d,'%b %d, %Y').date() for d in df['date']]\n",
    "meteo_temp['date'] = [dt.datetime.strptime(d,'%b %d, %Y').date() for d in meteo_temp['date']]\n",
    "meteo_precip['date'] = [dt.datetime.strptime(d,'%b %d, %Y').date() for d in meteo_precip['date']]\n",
    "indice['date'] = [dt.datetime.strptime(d,'%b %d, %Y').date() for d in indice['date']]"
   ]
  },
  {
   "cell_type": "code",
   "execution_count": 30,
   "id": "e9dfac1e-ea86-433b-80e0-c35a618e3d5a",
   "metadata": {},
   "outputs": [],
   "source": [
    "df=df.set_index('date')"
   ]
  },
  {
   "cell_type": "code",
   "execution_count": 31,
   "id": "ebc05ae9-61d4-401b-bb60-df3f48499ad6",
   "metadata": {},
   "outputs": [
    {
     "data": {
      "text/plain": [
       "(61, 2)"
      ]
     },
     "execution_count": 31,
     "metadata": {},
     "output_type": "execute_result"
    }
   ],
   "source": [
    "df.shape"
   ]
  },
  {
   "cell_type": "code",
   "execution_count": 32,
   "id": "c7d13416-e67b-4055-b414-6bd760e9f2f5",
   "metadata": {},
   "outputs": [
    {
     "data": {
      "text/html": [
       "<div>\n",
       "<style scoped>\n",
       "    .dataframe tbody tr th:only-of-type {\n",
       "        vertical-align: middle;\n",
       "    }\n",
       "\n",
       "    .dataframe tbody tr th {\n",
       "        vertical-align: top;\n",
       "    }\n",
       "\n",
       "    .dataframe thead th {\n",
       "        text-align: right;\n",
       "    }\n",
       "</style>\n",
       "<table border=\"1\" class=\"dataframe\">\n",
       "  <thead>\n",
       "    <tr style=\"text-align: right;\">\n",
       "      <th></th>\n",
       "      <th>temperature</th>\n",
       "      <th>precipitation</th>\n",
       "    </tr>\n",
       "    <tr>\n",
       "      <th>date</th>\n",
       "      <th></th>\n",
       "      <th></th>\n",
       "    </tr>\n",
       "  </thead>\n",
       "  <tbody>\n",
       "    <tr>\n",
       "      <th>2018-01-08</th>\n",
       "      <td>25.562</td>\n",
       "      <td>1.96</td>\n",
       "    </tr>\n",
       "    <tr>\n",
       "      <th>2018-01-09</th>\n",
       "      <td>25.885</td>\n",
       "      <td>0.42</td>\n",
       "    </tr>\n",
       "  </tbody>\n",
       "</table>\n",
       "</div>"
      ],
      "text/plain": [
       "            temperature  precipitation\n",
       "date                                  \n",
       "2018-01-08       25.562           1.96\n",
       "2018-01-09       25.885           0.42"
      ]
     },
     "execution_count": 32,
     "metadata": {},
     "output_type": "execute_result"
    }
   ],
   "source": [
    "df.head(2)"
   ]
  },
  {
   "cell_type": "code",
   "execution_count": 33,
   "id": "5328e725-4c3a-47e3-859c-c24b01453566",
   "metadata": {},
   "outputs": [
    {
     "name": "stdout",
     "output_type": "stream",
     "text": [
      "['Solarize_Light2', '_classic_test_patch', 'bmh', 'classic', 'dark_background', 'fast', 'fivethirtyeight', 'ggplot', 'grayscale', 'seaborn', 'seaborn-bright', 'seaborn-colorblind', 'seaborn-dark', 'seaborn-dark-palette', 'seaborn-darkgrid', 'seaborn-deep', 'seaborn-muted', 'seaborn-notebook', 'seaborn-paper', 'seaborn-pastel', 'seaborn-poster', 'seaborn-talk', 'seaborn-ticks', 'seaborn-white', 'seaborn-whitegrid', 'tableau-colorblind10']\n"
     ]
    }
   ],
   "source": [
    "plt.style.use(\"tableau-colorblind10\")\n",
    "print(plt.style.available)"
   ]
  },
  {
   "cell_type": "code",
   "execution_count": 34,
   "id": "91479044-ef62-4b75-9c87-508ce8008736",
   "metadata": {},
   "outputs": [
    {
     "data": {
      "image/png": "[encoded data removed]",
      "text/plain": [
       "<Figure size 432x288 with 1 Axes>"
      ]
     },
     "metadata": {
      "needs_background": "light"
     },
     "output_type": "display_data"
    }
   ],
   "source": [
    "axe=df.plot()"
   ]
  },
  {
   "cell_type": "code",
   "execution_count": 35,
   "id": "68fff88f-7020-40ed-824a-67e6b8ee08dc",
   "metadata": {},
   "outputs": [
    {
     "data": {
      "text/html": [
       "<div>\n",
       "<style scoped>\n",
       "    .dataframe tbody tr th:only-of-type {\n",
       "        vertical-align: middle;\n",
       "    }\n",
       "\n",
       "    .dataframe tbody tr th {\n",
       "        vertical-align: top;\n",
       "    }\n",
       "\n",
       "    .dataframe thead th {\n",
       "        text-align: right;\n",
       "    }\n",
       "</style>\n",
       "<table border=\"1\" class=\"dataframe\">\n",
       "  <thead>\n",
       "    <tr style=\"text-align: right;\">\n",
       "      <th></th>\n",
       "      <th>temperature</th>\n",
       "      <th>precipitation</th>\n",
       "    </tr>\n",
       "  </thead>\n",
       "  <tbody>\n",
       "    <tr>\n",
       "      <th>count</th>\n",
       "      <td>61.000000</td>\n",
       "      <td>61.000000</td>\n",
       "    </tr>\n",
       "    <tr>\n",
       "      <th>mean</th>\n",
       "      <td>26.835295</td>\n",
       "      <td>0.694590</td>\n",
       "    </tr>\n",
       "    <tr>\n",
       "      <th>std</th>\n",
       "      <td>1.126366</td>\n",
       "      <td>0.716518</td>\n",
       "    </tr>\n",
       "    <tr>\n",
       "      <th>min</th>\n",
       "      <td>24.638000</td>\n",
       "      <td>0.051000</td>\n",
       "    </tr>\n",
       "    <tr>\n",
       "      <th>25%</th>\n",
       "      <td>25.668000</td>\n",
       "      <td>0.291000</td>\n",
       "    </tr>\n",
       "    <tr>\n",
       "      <th>50%</th>\n",
       "      <td>26.918000</td>\n",
       "      <td>0.505000</td>\n",
       "    </tr>\n",
       "    <tr>\n",
       "      <th>75%</th>\n",
       "      <td>27.808000</td>\n",
       "      <td>0.749000</td>\n",
       "    </tr>\n",
       "    <tr>\n",
       "      <th>max</th>\n",
       "      <td>28.825000</td>\n",
       "      <td>3.634000</td>\n",
       "    </tr>\n",
       "  </tbody>\n",
       "</table>\n",
       "</div>"
      ],
      "text/plain": [
       "       temperature  precipitation\n",
       "count    61.000000      61.000000\n",
       "mean     26.835295       0.694590\n",
       "std       1.126366       0.716518\n",
       "min      24.638000       0.051000\n",
       "25%      25.668000       0.291000\n",
       "50%      26.918000       0.505000\n",
       "75%      27.808000       0.749000\n",
       "max      28.825000       3.634000"
      ]
     },
     "execution_count": 35,
     "metadata": {},
     "output_type": "execute_result"
    }
   ],
   "source": [
    "meteo.describe()"
   ]
  },
  {
   "cell_type": "code",
   "execution_count": 36,
   "id": "c6dbe50d-f61c-4db9-8d8c-77c1fe858516",
   "metadata": {},
   "outputs": [
    {
     "name": "stdout",
     "output_type": "stream",
     "text": [
      "<class 'pandas.core.frame.DataFrame'>\n",
      "RangeIndex: 122 entries, 0 to 121\n",
      "Data columns (total 3 columns):\n",
      " #   Column         Non-Null Count  Dtype  \n",
      "---  ------         --------------  -----  \n",
      " 0   date           122 non-null    object \n",
      " 1   temperature    61 non-null     float64\n",
      " 2   precipitation  61 non-null     float64\n",
      "dtypes: float64(2), object(1)\n",
      "memory usage: 3.0+ KB\n"
     ]
    }
   ],
   "source": [
    "meteo.info()"
   ]
  },
  {
   "cell_type": "code",
   "execution_count": 37,
   "id": "96650390-b0b9-470a-bcf0-a68d2fada876",
   "metadata": {},
   "outputs": [],
   "source": [
    "# ------------- Plot the indexes ----------\n",
    "#Initialize plot and parameters\n",
    "sns.set(rc={'figure.figsize':(16,6)})\n",
    "#sns.set_context('paper')\n",
    "\n",
    "#Plot colors\n",
    "prec_color = 'cornflowerblue'\n",
    "temp_color = 'fuchsia'"
   ]
  },
  {
   "cell_type": "code",
   "execution_count": 38,
   "id": "bd3cd169-58a7-41b5-b315-0acf616f1603",
   "metadata": {},
   "outputs": [
    {
     "data": {
      "image/png": "[encoded data removed]",
      "text/plain": [
       "<Figure size 1152x432 with 3 Axes>"
      ]
     },
     "metadata": {},
     "output_type": "display_data"
    }
   ],
   "source": [
    "#Create the figure with a date x-axis\n",
    "plt.style.use(\"tableau-colorblind10\")\n",
    "fig,ax = plt.subplots(2,1, sharex=True)\n",
    "\n",
    "\n",
    "plt.gca().xaxis.set_major_formatter(mdates.DateFormatter('%Y_%b'))\n",
    "plt.gca().xaxis.set_major_locator(mdates.DayLocator(interval = 60))\n",
    "#ax.set_xlim(dt.date(2017,12,1),dt.date(2020,2,1))\n",
    "ax[1].set_xlim(df.index.min(),df.index.max())\n",
    "\n",
    "\n",
    "\n",
    "#Plot precipitation\n",
    "ax2 = ax[1].twinx()\n",
    "\n",
    "\n",
    "p_prec = ax2.bar(meteo_precip['date'],meteo_precip['precipitation'], width = 10, alpha = .75, color = prec_color,label = 'precipation(mm)')\n",
    "ax2.set_ylim(0,5)\n",
    "ax2.grid(False)\n",
    "ax2.set_ylabel('Monthly total precipitation (mm)',fontsize = 12)\n",
    "ax2.spines['right'].set_color(prec_color)\n",
    "ax2.tick_params(axis='y', colors = prec_color)\n",
    "ax2.yaxis.label.set_color(prec_color)\n",
    "\n",
    "#Plot temperature\n",
    "p_temp = ax[1].plot(meteo_temp['date'],meteo_temp['temperature'],'-',color =temp_color,label = 'T (°C)')\n",
    "ax2.spines['left'].set_color(temp_color)\n",
    "ax[1].tick_params(axis='y',colors = temp_color)\n",
    "ax[1].yaxis.label.set_color(temp_color)\n",
    "ax[1].set_ylabel('Monthly mean temperature (°C)', fontsize = 12)\n",
    "#ax[1].yaxis.tick_right()\n",
    "\n",
    "\n",
    "#plot ARVI\n",
    "ax[0].set_ylabel('NDVI, NDWI, EVI and ARVI',fontsize=12)\n",
    "ax[0].set_title('ARVI, temperature and precipitations in Guyane for the period 2018-2020/half month time step',fontsize = 14)\n",
    "\n",
    "ax[0].plot(indice['date'],indice['ARVI'],linewidth = 2, color = 'orange', label ='ARVI')\n",
    "#ax.set_ylabel('ARVI')\n",
    "ax[0].legend(loc = 'upper right')\n",
    "\n",
    "\n",
    "ax[1].set_xlabel('Date',fontsize = 12)\n",
    "plt.savefig('temp_prec_halfmonth.png',dpi=250,bbox_inches = 'tight')"
   ]
  },
  {
   "cell_type": "code",
   "execution_count": 39,
   "id": "1268d541-ba1b-4f6e-9ef7-e7096fa5cec8",
   "metadata": {},
   "outputs": [
    {
     "name": "stdout",
     "output_type": "stream",
     "text": [
      "arvi_list is 1.0054945054945055 behind temperature_list\n"
     ]
    },
    {
     "data": {
      "image/png": "[encoded data removed]",
      "text/plain": [
       "<Figure size 1152x432 with 1 Axes>"
      ]
     },
     "metadata": {},
     "output_type": "display_data"
    }
   ],
   "source": [
    "#crosscorellation\n",
    "#fig1,ax1=plt.subplots(2, 4, figsize=(16,6), sharex= False, sharey= True )\n",
    "#fig1.tight_layout(pad=3.0)\n",
    "#fig1.suptitle(\"Correlation: Precipitation/Temperature versus indices\", fontsize = 14, y=1.05)\n",
    "\n",
    "#precipitation_list = list(meteo_precip[\"precipitation\"])\n",
    "temperature_list = list(meteo_temp[\"temperature\"])\n",
    "arvi_list = list(indice[\"ARVI\"])\n",
    "    \n",
    "# Sine sample with some noise and copy to y1 and y2 with a 1-second lag\n",
    "sr = 61\n",
    "y = np.linspace(0, 2*np.pi, sr)\n",
    "y = np.tile(np.sin(y), 5)\n",
    "y += np.random.normal(0, 5, y.shape)\n",
    "temperature_list = y[sr:4*sr]\n",
    "arvi_list = y[:3*sr]\n",
    "\n",
    "lag_finder(temperature_list, arvi_list, sr)"
   ]
  },
  {
   "cell_type": "code",
   "execution_count": null,
   "id": "9a24c1cc-59e1-4d76-a880-99b62d9c5d19",
   "metadata": {},
   "outputs": [],
   "source": []
  },
  {
   "cell_type": "code",
   "execution_count": 40,
   "id": "b3ab93be-8e53-41d6-9382-a407067f1abf",
   "metadata": {},
   "outputs": [
    {
     "name": "stdout",
     "output_type": "stream",
     "text": [
      "arvi_list is 1.0054945054945055 behind temperature_list\n"
     ]
    },
    {
     "data": {
      "image/png": "[encoded data removed]",
      "text/plain": [
       "<Figure size 1152x432 with 1 Axes>"
      ]
     },
     "metadata": {},
     "output_type": "display_data"
    }
   ],
   "source": [
    "precipitation_list = list(meteo_precip[\"precipitation\"])\n",
    "#temperature_list = list(meteo_temp[\"temperature\"])\n",
    "arvi_list = list(indice[\"ARVI\"])\n",
    "    \n",
    "# Sine sample with some noise and copy to y1 and y2 with a 1-second lag\n",
    "sr = 61\n",
    "y = np.linspace(0, 2*np.pi, sr)\n",
    "y = np.tile(np.sin(y), 5)\n",
    "y += np.random.normal(0, 5, y.shape)\n",
    "precipitation_list = y[sr:4*sr]\n",
    "arvi_list = y[:3*sr]\n",
    "\n",
    "lag_finder(precipitation_list, arvi_list, sr)"
   ]
  },
  {
   "cell_type": "code",
   "execution_count": null,
   "id": "d21822b5-56dd-4ce5-bc7d-3fba427aa71b",
   "metadata": {},
   "outputs": [],
   "source": []
  }
 ],
 "metadata": {
  "kernelspec": {
   "display_name": "Python 3",
   "language": "python",
   "name": "python3"
  },
  "language_info": {
   "codemirror_mode": {
    "name": "ipython",
    "version": 3
   },
   "file_extension": ".py",
   "mimetype": "text/x-python",
   "name": "python",
   "nbconvert_exporter": "python",
   "pygments_lexer": "ipython3",
   "version": "3.8.3"
  }
 },
 "nbformat": 4,
 "nbformat_minor": 5
}
